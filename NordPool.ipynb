{
  "cells": [
    {
      "cell_type": "markdown",
      "metadata": {
        "id": "view-in-github",
        "colab_type": "text"
      },
      "source": [
        "<a href=\"https://colab.research.google.com/github/pooja-joshi-bits/EPFforAll/blob/main/NordPool.ipynb\" target=\"_parent\"><img src=\"https://colab.research.google.com/assets/colab-badge.svg\" alt=\"Open In Colab\"/></a>"
      ]
    },
    {
      "cell_type": "markdown",
      "metadata": {
        "id": "13WBEwGcoK2Q"
      },
      "source": [
        "\n",
        "NordPool\n"
      ]
    },
    {
      "cell_type": "code",
      "execution_count": null,
      "metadata": {
        "id": "1Qrl30rAT8Rp"
      },
      "outputs": [],
      "source": [
        "\n",
        "# Importing library\n",
        "\n",
        "# Below five lines for generalization\n",
        "import numpy as np          #To perform mathematical operations \n",
        "# from numpy.random import seed\n",
        "# seed(42)\n",
        "# from tensorflow import set_random_seed\n",
        "# set_random_seed(42)\n",
        "\n",
        "import time\n",
        "# import pickle\n",
        "import pandas as pd\n",
        "import seaborn as sns\n",
        "import matplotlib.pyplot as plt\n",
        "from sklearn.model_selection import train_test_split\n",
        "from sklearn import metrics\n",
        "from sklearn.model_selection import cross_val_score\n",
        "from sklearn.metrics import accuracy_score, r2_score\n",
        "from sklearn import model_selection\n",
        "from sklearn.ensemble import RandomForestClassifier\n",
        "from sklearn.model_selection import RandomizedSearchCV\n",
        "from sklearn.ensemble import RandomForestRegressor\n",
        "\n",
        "\n",
        "from sklearn.decomposition import PCA\n",
        "#To show the output within the jupyter notebook itself!\n",
        "%matplotlib inline \n",
        "\n",
        "\n",
        "\n",
        "from timeit import default_timer as timer\n",
        "from datetime import timedelta\n",
        "\n",
        "from keras import layers\n",
        "from keras import models\n",
        "from keras.layers import Activation, LeakyReLU, PReLU, ELU, ReLU\n",
        "from keras.layers import Dropout\n",
        "from keras.optimizers import SGD\n",
        "from keras.optimizers import RMSprop\n",
        "from keras.callbacks import LearningRateScheduler\n",
        "from keras.callbacks import History\n",
        "from keras import losses\n",
        "from keras import regularizers\n",
        "\n",
        "\n",
        "from tensorflow.keras.models import Sequential\n",
        "from tensorflow.keras.layers import Dense, Activation\n",
        "\n",
        "\n",
        "import io\n",
        "import os   #\n",
        "import requests\n",
        "\n",
        "import warnings\n",
        "warnings.simplefilter(action='ignore', category=FutureWarning)\n",
        "warnings.filterwarnings('ignore')\n",
        "warnings.filterwarnings('ignore', category=DeprecationWarning)\n",
        "\n",
        "# import dill\n",
        "# dill.dump_session('notebook_env.db')"
      ]
    },
    {
      "cell_type": "code",
      "execution_count": null,
      "metadata": {
        "colab": {
          "base_uri": "https://localhost:8080/",
          "height": 424
        },
        "id": "iT_ioh7AcQyu",
        "outputId": "b43e95c7-8634-45c4-db3a-f81a028fb902"
      },
      "outputs": [
        {
          "output_type": "execute_result",
          "data": {
            "text/plain": [
              "                   Date   Price   Grid load forecast   Wind power forecast\n",
              "0         1/1/2013 0:00   31.05              42497.0                2798.0\n",
              "1         1/1/2013 1:00   30.47              41463.0                2417.0\n",
              "2         1/1/2013 2:00   28.92              40812.0                2036.0\n",
              "3         1/1/2013 3:00   27.88              40246.0                1706.0\n",
              "4         1/1/2013 4:00   26.96              40088.0                1427.0\n",
              "...                 ...     ...                  ...                   ...\n",
              "52411  12/24/2018 19:00   50.72              52591.0                2544.0\n",
              "52412  12/24/2018 20:00   49.86              51787.0                2785.0\n",
              "52413  12/24/2018 21:00   49.09              51488.0                2919.0\n",
              "52414  12/24/2018 22:00   49.02              50928.0                3119.0\n",
              "52415  12/24/2018 23:00   48.10              49889.0                3306.0\n",
              "\n",
              "[52416 rows x 4 columns]"
            ],
            "text/html": [
              "\n",
              "  <div id=\"df-a8647f04-479a-4d22-8473-fcd248b8a9a2\">\n",
              "    <div class=\"colab-df-container\">\n",
              "      <div>\n",
              "<style scoped>\n",
              "    .dataframe tbody tr th:only-of-type {\n",
              "        vertical-align: middle;\n",
              "    }\n",
              "\n",
              "    .dataframe tbody tr th {\n",
              "        vertical-align: top;\n",
              "    }\n",
              "\n",
              "    .dataframe thead th {\n",
              "        text-align: right;\n",
              "    }\n",
              "</style>\n",
              "<table border=\"1\" class=\"dataframe\">\n",
              "  <thead>\n",
              "    <tr style=\"text-align: right;\">\n",
              "      <th></th>\n",
              "      <th>Date</th>\n",
              "      <th>Price</th>\n",
              "      <th>Grid load forecast</th>\n",
              "      <th>Wind power forecast</th>\n",
              "    </tr>\n",
              "  </thead>\n",
              "  <tbody>\n",
              "    <tr>\n",
              "      <th>0</th>\n",
              "      <td>1/1/2013 0:00</td>\n",
              "      <td>31.05</td>\n",
              "      <td>42497.0</td>\n",
              "      <td>2798.0</td>\n",
              "    </tr>\n",
              "    <tr>\n",
              "      <th>1</th>\n",
              "      <td>1/1/2013 1:00</td>\n",
              "      <td>30.47</td>\n",
              "      <td>41463.0</td>\n",
              "      <td>2417.0</td>\n",
              "    </tr>\n",
              "    <tr>\n",
              "      <th>2</th>\n",
              "      <td>1/1/2013 2:00</td>\n",
              "      <td>28.92</td>\n",
              "      <td>40812.0</td>\n",
              "      <td>2036.0</td>\n",
              "    </tr>\n",
              "    <tr>\n",
              "      <th>3</th>\n",
              "      <td>1/1/2013 3:00</td>\n",
              "      <td>27.88</td>\n",
              "      <td>40246.0</td>\n",
              "      <td>1706.0</td>\n",
              "    </tr>\n",
              "    <tr>\n",
              "      <th>4</th>\n",
              "      <td>1/1/2013 4:00</td>\n",
              "      <td>26.96</td>\n",
              "      <td>40088.0</td>\n",
              "      <td>1427.0</td>\n",
              "    </tr>\n",
              "    <tr>\n",
              "      <th>...</th>\n",
              "      <td>...</td>\n",
              "      <td>...</td>\n",
              "      <td>...</td>\n",
              "      <td>...</td>\n",
              "    </tr>\n",
              "    <tr>\n",
              "      <th>52411</th>\n",
              "      <td>12/24/2018 19:00</td>\n",
              "      <td>50.72</td>\n",
              "      <td>52591.0</td>\n",
              "      <td>2544.0</td>\n",
              "    </tr>\n",
              "    <tr>\n",
              "      <th>52412</th>\n",
              "      <td>12/24/2018 20:00</td>\n",
              "      <td>49.86</td>\n",
              "      <td>51787.0</td>\n",
              "      <td>2785.0</td>\n",
              "    </tr>\n",
              "    <tr>\n",
              "      <th>52413</th>\n",
              "      <td>12/24/2018 21:00</td>\n",
              "      <td>49.09</td>\n",
              "      <td>51488.0</td>\n",
              "      <td>2919.0</td>\n",
              "    </tr>\n",
              "    <tr>\n",
              "      <th>52414</th>\n",
              "      <td>12/24/2018 22:00</td>\n",
              "      <td>49.02</td>\n",
              "      <td>50928.0</td>\n",
              "      <td>3119.0</td>\n",
              "    </tr>\n",
              "    <tr>\n",
              "      <th>52415</th>\n",
              "      <td>12/24/2018 23:00</td>\n",
              "      <td>48.10</td>\n",
              "      <td>49889.0</td>\n",
              "      <td>3306.0</td>\n",
              "    </tr>\n",
              "  </tbody>\n",
              "</table>\n",
              "<p>52416 rows × 4 columns</p>\n",
              "</div>\n",
              "      <button class=\"colab-df-convert\" onclick=\"convertToInteractive('df-a8647f04-479a-4d22-8473-fcd248b8a9a2')\"\n",
              "              title=\"Convert this dataframe to an interactive table.\"\n",
              "              style=\"display:none;\">\n",
              "        \n",
              "  <svg xmlns=\"http://www.w3.org/2000/svg\" height=\"24px\"viewBox=\"0 0 24 24\"\n",
              "       width=\"24px\">\n",
              "    <path d=\"M0 0h24v24H0V0z\" fill=\"none\"/>\n",
              "    <path d=\"M18.56 5.44l.94 2.06.94-2.06 2.06-.94-2.06-.94-.94-2.06-.94 2.06-2.06.94zm-11 1L8.5 8.5l.94-2.06 2.06-.94-2.06-.94L8.5 2.5l-.94 2.06-2.06.94zm10 10l.94 2.06.94-2.06 2.06-.94-2.06-.94-.94-2.06-.94 2.06-2.06.94z\"/><path d=\"M17.41 7.96l-1.37-1.37c-.4-.4-.92-.59-1.43-.59-.52 0-1.04.2-1.43.59L10.3 9.45l-7.72 7.72c-.78.78-.78 2.05 0 2.83L4 21.41c.39.39.9.59 1.41.59.51 0 1.02-.2 1.41-.59l7.78-7.78 2.81-2.81c.8-.78.8-2.07 0-2.86zM5.41 20L4 18.59l7.72-7.72 1.47 1.35L5.41 20z\"/>\n",
              "  </svg>\n",
              "      </button>\n",
              "      \n",
              "  <style>\n",
              "    .colab-df-container {\n",
              "      display:flex;\n",
              "      flex-wrap:wrap;\n",
              "      gap: 12px;\n",
              "    }\n",
              "\n",
              "    .colab-df-convert {\n",
              "      background-color: #E8F0FE;\n",
              "      border: none;\n",
              "      border-radius: 50%;\n",
              "      cursor: pointer;\n",
              "      display: none;\n",
              "      fill: #1967D2;\n",
              "      height: 32px;\n",
              "      padding: 0 0 0 0;\n",
              "      width: 32px;\n",
              "    }\n",
              "\n",
              "    .colab-df-convert:hover {\n",
              "      background-color: #E2EBFA;\n",
              "      box-shadow: 0px 1px 2px rgba(60, 64, 67, 0.3), 0px 1px 3px 1px rgba(60, 64, 67, 0.15);\n",
              "      fill: #174EA6;\n",
              "    }\n",
              "\n",
              "    [theme=dark] .colab-df-convert {\n",
              "      background-color: #3B4455;\n",
              "      fill: #D2E3FC;\n",
              "    }\n",
              "\n",
              "    [theme=dark] .colab-df-convert:hover {\n",
              "      background-color: #434B5C;\n",
              "      box-shadow: 0px 1px 3px 1px rgba(0, 0, 0, 0.15);\n",
              "      filter: drop-shadow(0px 1px 2px rgba(0, 0, 0, 0.3));\n",
              "      fill: #FFFFFF;\n",
              "    }\n",
              "  </style>\n",
              "\n",
              "      <script>\n",
              "        const buttonEl =\n",
              "          document.querySelector('#df-a8647f04-479a-4d22-8473-fcd248b8a9a2 button.colab-df-convert');\n",
              "        buttonEl.style.display =\n",
              "          google.colab.kernel.accessAllowed ? 'block' : 'none';\n",
              "\n",
              "        async function convertToInteractive(key) {\n",
              "          const element = document.querySelector('#df-a8647f04-479a-4d22-8473-fcd248b8a9a2');\n",
              "          const dataTable =\n",
              "            await google.colab.kernel.invokeFunction('convertToInteractive',\n",
              "                                                     [key], {});\n",
              "          if (!dataTable) return;\n",
              "\n",
              "          const docLinkHtml = 'Like what you see? Visit the ' +\n",
              "            '<a target=\"_blank\" href=https://colab.research.google.com/notebooks/data_table.ipynb>data table notebook</a>'\n",
              "            + ' to learn more about interactive tables.';\n",
              "          element.innerHTML = '';\n",
              "          dataTable['output_type'] = 'display_data';\n",
              "          await google.colab.output.renderOutput(dataTable, element);\n",
              "          const docLink = document.createElement('div');\n",
              "          docLink.innerHTML = docLinkHtml;\n",
              "          element.appendChild(docLink);\n",
              "        }\n",
              "      </script>\n",
              "    </div>\n",
              "  </div>\n",
              "  "
            ]
          },
          "metadata": {},
          "execution_count": 2
        }
      ],
      "source": [
        "start = timer()\n",
        "# do stuff\n",
        "\n",
        "df = pd.read_csv(\"NordPool.csv\")  #Import the NORD POOL Dataset \n",
        "df"
      ]
    },
    {
      "cell_type": "markdown",
      "metadata": {
        "id": "M_Tl7NSu9uM5"
      },
      "source": []
    },
    {
      "cell_type": "code",
      "execution_count": null,
      "metadata": {
        "colab": {
          "base_uri": "https://localhost:8080/",
          "height": 679
        },
        "id": "gcjUtpd9UDG4",
        "outputId": "c2ef64ce-74a3-4923-953c-c56018a5af2c"
      },
      "outputs": [
        {
          "output_type": "execute_result",
          "data": {
            "text/plain": [
              "           Date_   Price_0   Price_1   Price_2   Price_3   Price_4   Price_5  \\\n",
              "0     2013-01-01     31.05     30.47     28.92     27.88     26.96     27.84   \n",
              "1     2013-01-02     33.15     32.66     31.83     31.47     32.56     34.36   \n",
              "2     2013-01-03     33.11     32.22     31.46     31.67     32.05     33.67   \n",
              "3     2013-01-04     31.71     30.86     30.21     30.36     30.89     32.21   \n",
              "4     2013-01-05     33.69     32.71     32.09     32.17     32.73     33.77   \n",
              "...          ...       ...       ...       ...       ...       ...       ...   \n",
              "2179  2018-12-20     48.35     48.08     48.31     47.36     47.94     50.62   \n",
              "2180  2018-12-21     47.21     46.42     46.00     46.12     46.49     49.97   \n",
              "2181  2018-12-22     48.39     47.72     47.23     46.60     46.94     47.76   \n",
              "2182  2018-12-23     51.49     50.83     50.74     50.14     49.94     50.46   \n",
              "2183  2018-12-24     51.09     50.19     48.98     48.80     48.52     49.80   \n",
              "\n",
              "       Price_6   Price_7   Price_8  ...   Wind power forecast_14  \\\n",
              "0        28.79     28.63     28.44  ...                    822.0   \n",
              "1        36.28     38.39     39.09  ...                   2007.0   \n",
              "2        34.93     35.82     36.38  ...                   3686.0   \n",
              "3        34.33     35.98     36.72  ...                   2976.0   \n",
              "4        34.03     33.98     34.45  ...                    204.0   \n",
              "...        ...       ...       ...  ...                      ...   \n",
              "2179     54.38     57.84     58.63  ...                   1439.0   \n",
              "2180     52.73     55.65     57.04  ...                   1317.0   \n",
              "2181     48.41     49.44     50.29  ...                    234.0   \n",
              "2182     50.88     51.37     51.61  ...                    452.0   \n",
              "2183     50.05     50.55     52.33  ...                   1664.0   \n",
              "\n",
              "       Wind power forecast_15   Wind power forecast_16  \\\n",
              "0                       843.0                    881.0   \n",
              "1                      1966.0                   1891.0   \n",
              "2                      3679.0                   3644.0   \n",
              "3                      2973.0                   2915.0   \n",
              "4                       221.0                    247.0   \n",
              "...                       ...                      ...   \n",
              "2179                   1510.0                   1642.0   \n",
              "2180                   1281.0                   1289.0   \n",
              "2181                    187.0                    158.0   \n",
              "2182                    462.0                    485.0   \n",
              "2183                   1768.0                   1964.0   \n",
              "\n",
              "       Wind power forecast_17   Wind power forecast_18  \\\n",
              "0                       968.0                   1102.0   \n",
              "1                      1821.0                   1774.0   \n",
              "2                      3553.0                   3440.0   \n",
              "3                      2832.0                   2733.0   \n",
              "4                       294.0                    358.0   \n",
              "...                       ...                      ...   \n",
              "2179                   1719.0                   1735.0   \n",
              "2180                   1283.0                   1228.0   \n",
              "2181                    159.0                    165.0   \n",
              "2182                    552.0                    572.0   \n",
              "2183                   2092.0                   2243.0   \n",
              "\n",
              "       Wind power forecast_19   Wind power forecast_20  \\\n",
              "0                      1233.0                   1332.0   \n",
              "1                      1734.0                   1716.0   \n",
              "2                      3312.0                   3203.0   \n",
              "3                      2597.0                   2422.0   \n",
              "4                       437.0                    537.0   \n",
              "...                       ...                      ...   \n",
              "2179                   1809.0                   1845.0   \n",
              "2180                   1217.0                   1148.0   \n",
              "2181                    192.0                    228.0   \n",
              "2182                    529.0                    525.0   \n",
              "2183                   2544.0                   2785.0   \n",
              "\n",
              "       Wind power forecast_21   Wind power forecast_22  \\\n",
              "0                      1342.0                   1327.0   \n",
              "1                      1723.0                   1781.0   \n",
              "2                      3111.0                   3043.0   \n",
              "3                      2213.0                   2007.0   \n",
              "4                       638.0                    709.0   \n",
              "...                       ...                      ...   \n",
              "2179                   1819.0                   1834.0   \n",
              "2180                   1069.0                   1036.0   \n",
              "2181                    283.0                    350.0   \n",
              "2182                    478.0                    410.0   \n",
              "2183                   2919.0                   3119.0   \n",
              "\n",
              "       Wind power forecast_23  \n",
              "0                      1352.0  \n",
              "1                      1918.0  \n",
              "2                      2977.0  \n",
              "3                      1808.0  \n",
              "4                       793.0  \n",
              "...                       ...  \n",
              "2179                   1773.0  \n",
              "2180                    986.0  \n",
              "2181                    408.0  \n",
              "2182                    371.0  \n",
              "2183                   3306.0  \n",
              "\n",
              "[2184 rows x 73 columns]"
            ],
            "text/html": [
              "\n",
              "  <div id=\"df-5d559428-1154-4feb-a7de-5fc00ddf8874\">\n",
              "    <div class=\"colab-df-container\">\n",
              "      <div>\n",
              "<style scoped>\n",
              "    .dataframe tbody tr th:only-of-type {\n",
              "        vertical-align: middle;\n",
              "    }\n",
              "\n",
              "    .dataframe tbody tr th {\n",
              "        vertical-align: top;\n",
              "    }\n",
              "\n",
              "    .dataframe thead th {\n",
              "        text-align: right;\n",
              "    }\n",
              "</style>\n",
              "<table border=\"1\" class=\"dataframe\">\n",
              "  <thead>\n",
              "    <tr style=\"text-align: right;\">\n",
              "      <th></th>\n",
              "      <th>Date_</th>\n",
              "      <th>Price_0</th>\n",
              "      <th>Price_1</th>\n",
              "      <th>Price_2</th>\n",
              "      <th>Price_3</th>\n",
              "      <th>Price_4</th>\n",
              "      <th>Price_5</th>\n",
              "      <th>Price_6</th>\n",
              "      <th>Price_7</th>\n",
              "      <th>Price_8</th>\n",
              "      <th>...</th>\n",
              "      <th>Wind power forecast_14</th>\n",
              "      <th>Wind power forecast_15</th>\n",
              "      <th>Wind power forecast_16</th>\n",
              "      <th>Wind power forecast_17</th>\n",
              "      <th>Wind power forecast_18</th>\n",
              "      <th>Wind power forecast_19</th>\n",
              "      <th>Wind power forecast_20</th>\n",
              "      <th>Wind power forecast_21</th>\n",
              "      <th>Wind power forecast_22</th>\n",
              "      <th>Wind power forecast_23</th>\n",
              "    </tr>\n",
              "  </thead>\n",
              "  <tbody>\n",
              "    <tr>\n",
              "      <th>0</th>\n",
              "      <td>2013-01-01</td>\n",
              "      <td>31.05</td>\n",
              "      <td>30.47</td>\n",
              "      <td>28.92</td>\n",
              "      <td>27.88</td>\n",
              "      <td>26.96</td>\n",
              "      <td>27.84</td>\n",
              "      <td>28.79</td>\n",
              "      <td>28.63</td>\n",
              "      <td>28.44</td>\n",
              "      <td>...</td>\n",
              "      <td>822.0</td>\n",
              "      <td>843.0</td>\n",
              "      <td>881.0</td>\n",
              "      <td>968.0</td>\n",
              "      <td>1102.0</td>\n",
              "      <td>1233.0</td>\n",
              "      <td>1332.0</td>\n",
              "      <td>1342.0</td>\n",
              "      <td>1327.0</td>\n",
              "      <td>1352.0</td>\n",
              "    </tr>\n",
              "    <tr>\n",
              "      <th>1</th>\n",
              "      <td>2013-01-02</td>\n",
              "      <td>33.15</td>\n",
              "      <td>32.66</td>\n",
              "      <td>31.83</td>\n",
              "      <td>31.47</td>\n",
              "      <td>32.56</td>\n",
              "      <td>34.36</td>\n",
              "      <td>36.28</td>\n",
              "      <td>38.39</td>\n",
              "      <td>39.09</td>\n",
              "      <td>...</td>\n",
              "      <td>2007.0</td>\n",
              "      <td>1966.0</td>\n",
              "      <td>1891.0</td>\n",
              "      <td>1821.0</td>\n",
              "      <td>1774.0</td>\n",
              "      <td>1734.0</td>\n",
              "      <td>1716.0</td>\n",
              "      <td>1723.0</td>\n",
              "      <td>1781.0</td>\n",
              "      <td>1918.0</td>\n",
              "    </tr>\n",
              "    <tr>\n",
              "      <th>2</th>\n",
              "      <td>2013-01-03</td>\n",
              "      <td>33.11</td>\n",
              "      <td>32.22</td>\n",
              "      <td>31.46</td>\n",
              "      <td>31.67</td>\n",
              "      <td>32.05</td>\n",
              "      <td>33.67</td>\n",
              "      <td>34.93</td>\n",
              "      <td>35.82</td>\n",
              "      <td>36.38</td>\n",
              "      <td>...</td>\n",
              "      <td>3686.0</td>\n",
              "      <td>3679.0</td>\n",
              "      <td>3644.0</td>\n",
              "      <td>3553.0</td>\n",
              "      <td>3440.0</td>\n",
              "      <td>3312.0</td>\n",
              "      <td>3203.0</td>\n",
              "      <td>3111.0</td>\n",
              "      <td>3043.0</td>\n",
              "      <td>2977.0</td>\n",
              "    </tr>\n",
              "    <tr>\n",
              "      <th>3</th>\n",
              "      <td>2013-01-04</td>\n",
              "      <td>31.71</td>\n",
              "      <td>30.86</td>\n",
              "      <td>30.21</td>\n",
              "      <td>30.36</td>\n",
              "      <td>30.89</td>\n",
              "      <td>32.21</td>\n",
              "      <td>34.33</td>\n",
              "      <td>35.98</td>\n",
              "      <td>36.72</td>\n",
              "      <td>...</td>\n",
              "      <td>2976.0</td>\n",
              "      <td>2973.0</td>\n",
              "      <td>2915.0</td>\n",
              "      <td>2832.0</td>\n",
              "      <td>2733.0</td>\n",
              "      <td>2597.0</td>\n",
              "      <td>2422.0</td>\n",
              "      <td>2213.0</td>\n",
              "      <td>2007.0</td>\n",
              "      <td>1808.0</td>\n",
              "    </tr>\n",
              "    <tr>\n",
              "      <th>4</th>\n",
              "      <td>2013-01-05</td>\n",
              "      <td>33.69</td>\n",
              "      <td>32.71</td>\n",
              "      <td>32.09</td>\n",
              "      <td>32.17</td>\n",
              "      <td>32.73</td>\n",
              "      <td>33.77</td>\n",
              "      <td>34.03</td>\n",
              "      <td>33.98</td>\n",
              "      <td>34.45</td>\n",
              "      <td>...</td>\n",
              "      <td>204.0</td>\n",
              "      <td>221.0</td>\n",
              "      <td>247.0</td>\n",
              "      <td>294.0</td>\n",
              "      <td>358.0</td>\n",
              "      <td>437.0</td>\n",
              "      <td>537.0</td>\n",
              "      <td>638.0</td>\n",
              "      <td>709.0</td>\n",
              "      <td>793.0</td>\n",
              "    </tr>\n",
              "    <tr>\n",
              "      <th>...</th>\n",
              "      <td>...</td>\n",
              "      <td>...</td>\n",
              "      <td>...</td>\n",
              "      <td>...</td>\n",
              "      <td>...</td>\n",
              "      <td>...</td>\n",
              "      <td>...</td>\n",
              "      <td>...</td>\n",
              "      <td>...</td>\n",
              "      <td>...</td>\n",
              "      <td>...</td>\n",
              "      <td>...</td>\n",
              "      <td>...</td>\n",
              "      <td>...</td>\n",
              "      <td>...</td>\n",
              "      <td>...</td>\n",
              "      <td>...</td>\n",
              "      <td>...</td>\n",
              "      <td>...</td>\n",
              "      <td>...</td>\n",
              "      <td>...</td>\n",
              "    </tr>\n",
              "    <tr>\n",
              "      <th>2179</th>\n",
              "      <td>2018-12-20</td>\n",
              "      <td>48.35</td>\n",
              "      <td>48.08</td>\n",
              "      <td>48.31</td>\n",
              "      <td>47.36</td>\n",
              "      <td>47.94</td>\n",
              "      <td>50.62</td>\n",
              "      <td>54.38</td>\n",
              "      <td>57.84</td>\n",
              "      <td>58.63</td>\n",
              "      <td>...</td>\n",
              "      <td>1439.0</td>\n",
              "      <td>1510.0</td>\n",
              "      <td>1642.0</td>\n",
              "      <td>1719.0</td>\n",
              "      <td>1735.0</td>\n",
              "      <td>1809.0</td>\n",
              "      <td>1845.0</td>\n",
              "      <td>1819.0</td>\n",
              "      <td>1834.0</td>\n",
              "      <td>1773.0</td>\n",
              "    </tr>\n",
              "    <tr>\n",
              "      <th>2180</th>\n",
              "      <td>2018-12-21</td>\n",
              "      <td>47.21</td>\n",
              "      <td>46.42</td>\n",
              "      <td>46.00</td>\n",
              "      <td>46.12</td>\n",
              "      <td>46.49</td>\n",
              "      <td>49.97</td>\n",
              "      <td>52.73</td>\n",
              "      <td>55.65</td>\n",
              "      <td>57.04</td>\n",
              "      <td>...</td>\n",
              "      <td>1317.0</td>\n",
              "      <td>1281.0</td>\n",
              "      <td>1289.0</td>\n",
              "      <td>1283.0</td>\n",
              "      <td>1228.0</td>\n",
              "      <td>1217.0</td>\n",
              "      <td>1148.0</td>\n",
              "      <td>1069.0</td>\n",
              "      <td>1036.0</td>\n",
              "      <td>986.0</td>\n",
              "    </tr>\n",
              "    <tr>\n",
              "      <th>2181</th>\n",
              "      <td>2018-12-22</td>\n",
              "      <td>48.39</td>\n",
              "      <td>47.72</td>\n",
              "      <td>47.23</td>\n",
              "      <td>46.60</td>\n",
              "      <td>46.94</td>\n",
              "      <td>47.76</td>\n",
              "      <td>48.41</td>\n",
              "      <td>49.44</td>\n",
              "      <td>50.29</td>\n",
              "      <td>...</td>\n",
              "      <td>234.0</td>\n",
              "      <td>187.0</td>\n",
              "      <td>158.0</td>\n",
              "      <td>159.0</td>\n",
              "      <td>165.0</td>\n",
              "      <td>192.0</td>\n",
              "      <td>228.0</td>\n",
              "      <td>283.0</td>\n",
              "      <td>350.0</td>\n",
              "      <td>408.0</td>\n",
              "    </tr>\n",
              "    <tr>\n",
              "      <th>2182</th>\n",
              "      <td>2018-12-23</td>\n",
              "      <td>51.49</td>\n",
              "      <td>50.83</td>\n",
              "      <td>50.74</td>\n",
              "      <td>50.14</td>\n",
              "      <td>49.94</td>\n",
              "      <td>50.46</td>\n",
              "      <td>50.88</td>\n",
              "      <td>51.37</td>\n",
              "      <td>51.61</td>\n",
              "      <td>...</td>\n",
              "      <td>452.0</td>\n",
              "      <td>462.0</td>\n",
              "      <td>485.0</td>\n",
              "      <td>552.0</td>\n",
              "      <td>572.0</td>\n",
              "      <td>529.0</td>\n",
              "      <td>525.0</td>\n",
              "      <td>478.0</td>\n",
              "      <td>410.0</td>\n",
              "      <td>371.0</td>\n",
              "    </tr>\n",
              "    <tr>\n",
              "      <th>2183</th>\n",
              "      <td>2018-12-24</td>\n",
              "      <td>51.09</td>\n",
              "      <td>50.19</td>\n",
              "      <td>48.98</td>\n",
              "      <td>48.80</td>\n",
              "      <td>48.52</td>\n",
              "      <td>49.80</td>\n",
              "      <td>50.05</td>\n",
              "      <td>50.55</td>\n",
              "      <td>52.33</td>\n",
              "      <td>...</td>\n",
              "      <td>1664.0</td>\n",
              "      <td>1768.0</td>\n",
              "      <td>1964.0</td>\n",
              "      <td>2092.0</td>\n",
              "      <td>2243.0</td>\n",
              "      <td>2544.0</td>\n",
              "      <td>2785.0</td>\n",
              "      <td>2919.0</td>\n",
              "      <td>3119.0</td>\n",
              "      <td>3306.0</td>\n",
              "    </tr>\n",
              "  </tbody>\n",
              "</table>\n",
              "<p>2184 rows × 73 columns</p>\n",
              "</div>\n",
              "      <button class=\"colab-df-convert\" onclick=\"convertToInteractive('df-5d559428-1154-4feb-a7de-5fc00ddf8874')\"\n",
              "              title=\"Convert this dataframe to an interactive table.\"\n",
              "              style=\"display:none;\">\n",
              "        \n",
              "  <svg xmlns=\"http://www.w3.org/2000/svg\" height=\"24px\"viewBox=\"0 0 24 24\"\n",
              "       width=\"24px\">\n",
              "    <path d=\"M0 0h24v24H0V0z\" fill=\"none\"/>\n",
              "    <path d=\"M18.56 5.44l.94 2.06.94-2.06 2.06-.94-2.06-.94-.94-2.06-.94 2.06-2.06.94zm-11 1L8.5 8.5l.94-2.06 2.06-.94-2.06-.94L8.5 2.5l-.94 2.06-2.06.94zm10 10l.94 2.06.94-2.06 2.06-.94-2.06-.94-.94-2.06-.94 2.06-2.06.94z\"/><path d=\"M17.41 7.96l-1.37-1.37c-.4-.4-.92-.59-1.43-.59-.52 0-1.04.2-1.43.59L10.3 9.45l-7.72 7.72c-.78.78-.78 2.05 0 2.83L4 21.41c.39.39.9.59 1.41.59.51 0 1.02-.2 1.41-.59l7.78-7.78 2.81-2.81c.8-.78.8-2.07 0-2.86zM5.41 20L4 18.59l7.72-7.72 1.47 1.35L5.41 20z\"/>\n",
              "  </svg>\n",
              "      </button>\n",
              "      \n",
              "  <style>\n",
              "    .colab-df-container {\n",
              "      display:flex;\n",
              "      flex-wrap:wrap;\n",
              "      gap: 12px;\n",
              "    }\n",
              "\n",
              "    .colab-df-convert {\n",
              "      background-color: #E8F0FE;\n",
              "      border: none;\n",
              "      border-radius: 50%;\n",
              "      cursor: pointer;\n",
              "      display: none;\n",
              "      fill: #1967D2;\n",
              "      height: 32px;\n",
              "      padding: 0 0 0 0;\n",
              "      width: 32px;\n",
              "    }\n",
              "\n",
              "    .colab-df-convert:hover {\n",
              "      background-color: #E2EBFA;\n",
              "      box-shadow: 0px 1px 2px rgba(60, 64, 67, 0.3), 0px 1px 3px 1px rgba(60, 64, 67, 0.15);\n",
              "      fill: #174EA6;\n",
              "    }\n",
              "\n",
              "    [theme=dark] .colab-df-convert {\n",
              "      background-color: #3B4455;\n",
              "      fill: #D2E3FC;\n",
              "    }\n",
              "\n",
              "    [theme=dark] .colab-df-convert:hover {\n",
              "      background-color: #434B5C;\n",
              "      box-shadow: 0px 1px 3px 1px rgba(0, 0, 0, 0.15);\n",
              "      filter: drop-shadow(0px 1px 2px rgba(0, 0, 0, 0.3));\n",
              "      fill: #FFFFFF;\n",
              "    }\n",
              "  </style>\n",
              "\n",
              "      <script>\n",
              "        const buttonEl =\n",
              "          document.querySelector('#df-5d559428-1154-4feb-a7de-5fc00ddf8874 button.colab-df-convert');\n",
              "        buttonEl.style.display =\n",
              "          google.colab.kernel.accessAllowed ? 'block' : 'none';\n",
              "\n",
              "        async function convertToInteractive(key) {\n",
              "          const element = document.querySelector('#df-5d559428-1154-4feb-a7de-5fc00ddf8874');\n",
              "          const dataTable =\n",
              "            await google.colab.kernel.invokeFunction('convertToInteractive',\n",
              "                                                     [key], {});\n",
              "          if (!dataTable) return;\n",
              "\n",
              "          const docLinkHtml = 'Like what you see? Visit the ' +\n",
              "            '<a target=\"_blank\" href=https://colab.research.google.com/notebooks/data_table.ipynb>data table notebook</a>'\n",
              "            + ' to learn more about interactive tables.';\n",
              "          element.innerHTML = '';\n",
              "          dataTable['output_type'] = 'display_data';\n",
              "          await google.colab.output.renderOutput(dataTable, element);\n",
              "          const docLink = document.createElement('div');\n",
              "          docLink.innerHTML = docLinkHtml;\n",
              "          element.appendChild(docLink);\n",
              "        }\n",
              "      </script>\n",
              "    </div>\n",
              "  </div>\n",
              "  "
            ]
          },
          "metadata": {},
          "execution_count": 3
        }
      ],
      "source": [
        "# Input data i.e. xd (float values) # channel gains\n",
        "\n",
        "df = pd.read_csv(\"NordPool.csv\")  #Import the NORD POOL Dataset \n",
        "df[\"Date\"] = pd.to_datetime(df[\"Date\"]) \n",
        "df[\"Date\"].max() - df[\"Date\"].min()\n",
        "df[\"Date_\"] = df[\"Date\"].dt.date\n",
        "df[\"Hour_\"] = df[\"Date\"].dt.hour\n",
        "reshaped = df.pivot(index='Date_', columns='Hour_', values=[' Price', ' Grid load forecast', ' Wind power forecast'])\n",
        "#reshaped = df.pivot(index='Date_', columns='Hour_', values=[' Zonal COMED price', ' System load forecast', ' Zonal COMED load foecast'])\n",
        "\n",
        "reshaped.columns = [f\"{col[0]}_{str(col[1])}\" for col in reshaped.columns]\n",
        "reshaped.reset_index(drop = False, inplace = True)\n",
        "df = reshaped\n",
        "df"
      ]
    },
    {
      "cell_type": "code",
      "execution_count": null,
      "metadata": {
        "colab": {
          "base_uri": "https://localhost:8080/"
        },
        "id": "z4TzUvDxPpRX",
        "outputId": "f406f96a-3d44-4cf3-c843-9781f38d24b8"
      },
      "outputs": [
        {
          "output_type": "execute_result",
          "data": {
            "text/plain": [
              "datetime.date(2012, 12, 30)"
            ]
          },
          "metadata": {},
          "execution_count": 4
        }
      ],
      "source": [
        "reshaped.columns     #To import the library to handle the date\n",
        "\n",
        "from datetime import datetime, timedelta     \n",
        "d = reshaped.Date_[0] - timedelta(days=2)\n",
        "d"
      ]
    },
    {
      "cell_type": "code",
      "execution_count": null,
      "metadata": {
        "id": "WHP2qNhkRzyY"
      },
      "outputs": [],
      "source": [
        "#We are arranging the DATA as demonstrated by Lago et al. \n",
        "\"p_{-1}, p_{-2}, p_{-3}, p{-7}, x(1)_{0}, x(2)_{0}, x(1)_{-1}, x(2)_{-1}, x(1)_{-7}, x(2)_{-7}, z\"\n",
        "price_cols = [col for col in reshaped.columns if col.startswith(\" Price\")]\n",
        "wind_cols = [col for col in reshaped.columns if col.startswith(\" Wind\")]\n",
        "grid_cols = [col for col in reshaped.columns if col.startswith(\" Grid\")]\n",
        "\n",
        "def extract_features(dt):\n",
        "  p_minus0 = reshaped[reshaped.Date_ == dt][price_cols]\n",
        "  p_minus1 = reshaped[reshaped.Date_ == (dt - timedelta(days=1))][price_cols].iloc[0,:]\n",
        "  p_minus2 = reshaped[reshaped.Date_ == (dt - timedelta(days=2))][price_cols].iloc[0,:]\n",
        "  p_minus3 = reshaped[reshaped.Date_ == (dt - timedelta(days=3))][price_cols].iloc[0,:]\n",
        "  p_minus7 = reshaped[reshaped.Date_ == (dt - timedelta(days=7))][price_cols].iloc[0,:]\n",
        "\n",
        "  w_minus0 = reshaped[reshaped.Date_ == dt][wind_cols].iloc[0,:]\n",
        "  w_minus1 = reshaped[reshaped.Date_ == (dt - timedelta(days=1))][wind_cols].iloc[0,:]\n",
        "  w_minus2 = reshaped[reshaped.Date_ == (dt - timedelta(days=2))][wind_cols].iloc[0,:]\n",
        "  w_minus3 = reshaped[reshaped.Date_ == (dt - timedelta(days=3))][wind_cols].iloc[0,:]\n",
        "  w_minus7 = reshaped[reshaped.Date_ == (dt - timedelta(days=7))][wind_cols].iloc[0,:]\n",
        "  \n",
        "  \n",
        "  g_minus0 = reshaped[reshaped.Date_ == dt][grid_cols].iloc[0,:]\n",
        "  g_minus1 = reshaped[reshaped.Date_ == (dt - timedelta(days=1))][grid_cols].iloc[0,:]\n",
        "  g_minus2 = reshaped[reshaped.Date_ == (dt - timedelta(days=2))][grid_cols].iloc[0,:]\n",
        "  g_minus3 = reshaped[reshaped.Date_ == (dt - timedelta(days=3))][grid_cols].iloc[0,:]\n",
        "  g_minus7 = reshaped[reshaped.Date_ == (dt - timedelta(days=7))][grid_cols].iloc[0,:]\n",
        "  \n",
        "  features = np.array((p_minus1, p_minus2, p_minus3, p_minus7, w_minus0, w_minus1, w_minus7, g_minus0, g_minus1, g_minus7)).ravel()\n",
        "  features = np.expand_dims(features, axis = 0)\n",
        "  target = np.array(p_minus0)\n",
        "  return features, target"
      ]
    },
    {
      "cell_type": "code",
      "execution_count": null,
      "metadata": {
        "colab": {
          "base_uri": "https://localhost:8080/"
        },
        "id": "4wlGZaU2SbI1",
        "outputId": "613aafb5-cd13-4770-9e5f-366c3dbbd8b3"
      },
      "outputs": [
        {
          "output_type": "execute_result",
          "data": {
            "text/plain": [
              "[' Grid load forecast_0',\n",
              " ' Grid load forecast_1',\n",
              " ' Grid load forecast_2',\n",
              " ' Grid load forecast_3',\n",
              " ' Grid load forecast_4',\n",
              " ' Grid load forecast_5',\n",
              " ' Grid load forecast_6',\n",
              " ' Grid load forecast_7',\n",
              " ' Grid load forecast_8',\n",
              " ' Grid load forecast_9',\n",
              " ' Grid load forecast_10',\n",
              " ' Grid load forecast_11',\n",
              " ' Grid load forecast_12',\n",
              " ' Grid load forecast_13',\n",
              " ' Grid load forecast_14',\n",
              " ' Grid load forecast_15',\n",
              " ' Grid load forecast_16',\n",
              " ' Grid load forecast_17',\n",
              " ' Grid load forecast_18',\n",
              " ' Grid load forecast_19',\n",
              " ' Grid load forecast_20',\n",
              " ' Grid load forecast_21',\n",
              " ' Grid load forecast_22',\n",
              " ' Grid load forecast_23']"
            ]
          },
          "metadata": {},
          "execution_count": 6
        }
      ],
      "source": [
        "grid_cols"
      ]
    },
    {
      "cell_type": "code",
      "execution_count": null,
      "metadata": {
        "colab": {
          "base_uri": "https://localhost:8080/"
        },
        "id": "vbmJYqPKRamb",
        "outputId": "b23287eb-af76-4c28-ade3-289ae826a320"
      },
      "outputs": [
        {
          "output_type": "stream",
          "name": "stderr",
          "text": [
            "100%|██████████| 2177/2177 [00:54<00:00, 39.85it/s]\n"
          ]
        }
      ],
      "source": [
        "from tqdm import tqdm     #To extract the features of the data\n",
        "features_array = None     #To initialize\n",
        "target_Array = None\n",
        "for dt in tqdm(reshaped.Date_.sort_values()[7:], total = len(reshaped.Date_.sort_values()[7:])):  #starting from 7th day\n",
        "  e, t = extract_features(dt)\n",
        "  if features_array is None:\n",
        "    features_array = e\n",
        "    target_array = t\n",
        "  else:\n",
        "    features_array = np.append(features_array, e, axis = 0)\n",
        "    target_array = np.append(target_array, t, axis = 0)\n",
        "\n"
      ]
    },
    {
      "cell_type": "code",
      "execution_count": null,
      "metadata": {
        "colab": {
          "base_uri": "https://localhost:8080/"
        },
        "id": "Za0tgDSXqAhL",
        "outputId": "b8e46d64-1bc3-4bc4-9999-76823113a488"
      },
      "outputs": [
        {
          "output_type": "stream",
          "name": "stdout",
          "text": [
            "0\n",
            "1154\n",
            "1155\n",
            "1448\n",
            "1449\n",
            "2176\n"
          ]
        }
      ],
      "source": [
        "date_list = reshaped.Date_.sort_values()[7:]\n",
        "# date_list.iloc[0] #We do not consider first 1 to 7 days\n",
        "\n",
        "start_date_training = pd.to_datetime(\"2013-01-08\").date()\n",
        "end_date_training = pd.to_datetime(\"2016-03-07\").date()\n",
        "\n",
        "start_date_validation = pd.to_datetime(\"2016-03-08\").date()\n",
        "end_date_validation = pd.to_datetime(\"2016-12-26\").date()\n",
        "\n",
        "start_date_test = pd.to_datetime(\"2016-12-27\").date()\n",
        "end_date_test = pd.to_datetime(\"2018-12-24\").date()\n",
        "\n",
        "for i, value in enumerate(date_list):    #loop to compute the index of start date [Training]\n",
        "  if value == start_date_training:\n",
        "    print(i)\n",
        "    break\n",
        "\n",
        "for j, value in enumerate(date_list):    #loop to compute the index of end date [Training]\n",
        "  if value == end_date_training:\n",
        "    print(j)\n",
        "    break\n",
        "\n",
        "for k, value in enumerate(date_list):    #loop to compute the index of start date [Validation]\n",
        "  if value == start_date_validation:\n",
        "    print(k)\n",
        "    break\n",
        "\n",
        "for l, value in enumerate(date_list):    #loop to compute the index of end date [Validation]\n",
        "  if value == end_date_validation:\n",
        "    print(l)\n",
        "    break\n",
        "\n",
        "for m, value in enumerate(date_list):    #loop to compute the index of start date [Test]\n",
        "  if value == start_date_test:\n",
        "    print(m)\n",
        "    break\n",
        "\n",
        "for n, value in enumerate(date_list):    #loop to compute the index of end date [Test]\n",
        "  if value == end_date_test:\n",
        "    print(n)\n",
        "    break"
      ]
    },
    {
      "cell_type": "code",
      "execution_count": null,
      "metadata": {
        "colab": {
          "base_uri": "https://localhost:8080/"
        },
        "id": "DDCVA3qA4ufW",
        "outputId": "a8c752db-5ecf-4b6b-dc36-ee1ba10c7063"
      },
      "outputs": [
        {
          "output_type": "execute_result",
          "data": {
            "text/plain": [
              "(2177, 24)"
            ]
          },
          "metadata": {},
          "execution_count": 9
        }
      ],
      "source": [
        "target_array.shape"
      ]
    },
    {
      "cell_type": "code",
      "execution_count": null,
      "metadata": {
        "colab": {
          "base_uri": "https://localhost:8080/"
        },
        "id": "chPa5MZ1phXs",
        "outputId": "163538ac-c2b2-4f11-d8ae-d86bfd92cf04"
      },
      "outputs": [
        {
          "output_type": "execute_result",
          "data": {
            "text/plain": [
              "(2177, 240)"
            ]
          },
          "metadata": {},
          "execution_count": 10
        }
      ],
      "source": [
        "# From here we are doing the preprocessing of our dataset\n",
        "from sklearn.preprocessing import StandardScaler, MinMaxScaler, RobustScaler \n",
        "\n",
        "#scaler1 = MinMaxScaler()\n",
        "scaler2 = StandardScaler()\n",
        "#scaler3 = RobustScaler()\n",
        "\n",
        "\n",
        "\n",
        "features_array_scaled = scaler2.fit_transform(features_array)  # normalizing the features\n",
        "target_array_scaled = target_array  # normalizing the features\n",
        "\n",
        "features_array_scaled.shape"
      ]
    },
    {
      "cell_type": "code",
      "execution_count": null,
      "metadata": {
        "colab": {
          "base_uri": "https://localhost:8080/"
        },
        "id": "8jPwtG3pPvpU",
        "outputId": "bd482668-9f5f-49a1-ed5e-9ba723f24de7"
      },
      "outputs": [
        {
          "output_type": "execute_result",
          "data": {
            "text/plain": [
              "(2177, 240)"
            ]
          },
          "metadata": {},
          "execution_count": 11
        }
      ],
      "source": [
        "features_array.shape"
      ]
    },
    {
      "cell_type": "markdown",
      "metadata": {
        "id": "ArqD2-1751LK"
      },
      "source": [
        "# New Section"
      ]
    },
    {
      "cell_type": "code",
      "execution_count": null,
      "metadata": {
        "id": "Zfl0zjFjplOG"
      },
      "outputs": [],
      "source": [
        "#Rearranging the matrices in training - test - validation\n",
        "X_train = features_array_scaled[0:1154]\n",
        "y_train = target_array_scaled[0:1154]\n",
        "X_validation = features_array_scaled[1155:1448]\n",
        "y_validation = target_array_scaled[1155:1448]\n",
        "X_test = features_array_scaled[1449:2176]\n",
        "y_test = target_array_scaled[1449:2176]"
      ]
    },
    {
      "cell_type": "code",
      "execution_count": null,
      "metadata": {
        "id": "9NKJwAEO1sl_"
      },
      "outputs": [],
      "source": [
        "#Rearranging the matrices (T2) training - test - validation (70% - 15% - 15%)\n",
        "#X_train = features_array_scaled[0:1523]\n",
        "#y_train = target_array_scaled[0:1523]\n",
        "#X_validation = features_array_scaled[1524:1850]\n",
        "#y_validation = target_array_scaled[1524:1850]\n",
        "#X_test = features_array_scaled[1850:2176]\n",
        "#y_test = target_array_scaled[1850:2176]"
      ]
    },
    {
      "cell_type": "code",
      "execution_count": null,
      "metadata": {
        "id": "EWIFwVLW4tPi"
      },
      "outputs": [],
      "source": [
        "#Rearranging the matrices (T2) training - test - validation (75% - 15% - 10%)\n",
        "#X_train = features_array_scaled[0:1632]\n",
        "#y_train = target_array_scaled[0:1632]\n",
        "#X_validation = features_array_scaled[1633:1960]\n",
        "#y_validation = target_array_scaled[1633:1960]\n",
        "#X_test = features_array_scaled[1961:2176]\n",
        "#y_test = target_array_scaled[1961:2176]"
      ]
    },
    {
      "cell_type": "code",
      "source": [
        "#T3 (82% - 08% - 10%)\n",
        "#X_train = features_array_scaled[0:1800]\n",
        "#y_train = target_array_scaled[0:1800]\n",
        "#X_validation = features_array_scaled[1801:2000]\n",
        "#y_validation = target_array_scaled[1801:2000]\n",
        "#X_test = features_array_scaled[2001:2176]\n",
        "#y_test = target_array_scaled[2001:2176]"
      ],
      "metadata": {
        "id": "VaX6omug0XWh"
      },
      "execution_count": null,
      "outputs": []
    },
    {
      "cell_type": "code",
      "execution_count": null,
      "metadata": {
        "colab": {
          "base_uri": "https://localhost:8080/"
        },
        "id": "onQ3xrXQMYxW",
        "outputId": "9efc787d-a073-4630-bc10-35696fc3c38d"
      },
      "outputs": [
        {
          "output_type": "execute_result",
          "data": {
            "text/plain": [
              "(727, 24)"
            ]
          },
          "metadata": {},
          "execution_count": 16
        }
      ],
      "source": [
        "y_test.shape"
      ]
    },
    {
      "cell_type": "code",
      "execution_count": null,
      "metadata": {
        "id": "Eh8pnsVHULwk"
      },
      "outputs": [],
      "source": [
        "# Building neural network\n",
        "model = Sequential()\n",
        "model.add(Dense(240, input_dim=X_train.shape[1], kernel_initializer='glorot_normal', activation = 'linear')) # Input layer and 1st hidden layer\n",
        "#model.add(Dropout(0.01, input_shape=(240,)))\n",
        "model.add(Dense(120, kernel_initializer='glorot_normal', activation = 'linear')) # 1st Hidden layer\n",
        "#model.add(Dropout(0.01, input_shape=(240,)))\n",
        "model.add(Dense(60, kernel_initializer='glorot_normal', activation = 'linear')) # 2nd Hidden layer\n",
        "#model.add(ReLU(alpha=0.01)) # Relu for the hidden layer\n",
        "model.add(Dense(24, kernel_initializer='glorot_normal', activation = 'linear')) # output "
      ]
    },
    {
      "cell_type": "code",
      "execution_count": null,
      "metadata": {
        "id": "xr9VShcuUMy9"
      },
      "outputs": [],
      "source": [
        "# Compiling Neural network\n",
        "from tensorflow.keras.callbacks import EarlyStopping\n",
        "model.compile(optimizer='adam', loss='mean_squared_error', metrics = ['mean_squared_error']) \n",
        "monitor = EarlyStopping(monitor='val_loss', min_delta=0.001, patience=10, verbose=1, mode='auto', restore_best_weights=True)"
      ]
    },
    {
      "cell_type": "code",
      "execution_count": null,
      "metadata": {
        "colab": {
          "base_uri": "https://localhost:8080/"
        },
        "id": "Sl-SBOzsUP_k",
        "outputId": "9f1a75e3-6b1c-4188-c70b-7a4d46aad4a2"
      },
      "outputs": [
        {
          "output_type": "stream",
          "name": "stdout",
          "text": [
            "Epoch 1/200\n",
            "37/37 - 2s - loss: 1038.4434 - mean_squared_error: 1038.4434 - val_loss: 761.5615 - val_mean_squared_error: 761.5615 - 2s/epoch - 61ms/step\n",
            "Epoch 2/200\n",
            "37/37 - 0s - loss: 1004.9180 - mean_squared_error: 1004.9180 - val_loss: 772.1033 - val_mean_squared_error: 772.1033 - 263ms/epoch - 7ms/step\n",
            "Epoch 3/200\n",
            "37/37 - 0s - loss: 952.7238 - mean_squared_error: 952.7238 - val_loss: 761.8470 - val_mean_squared_error: 761.8470 - 169ms/epoch - 5ms/step\n",
            "Epoch 4/200\n",
            "37/37 - 0s - loss: 936.1840 - mean_squared_error: 936.1840 - val_loss: 737.4687 - val_mean_squared_error: 737.4687 - 160ms/epoch - 4ms/step\n",
            "Epoch 5/200\n",
            "37/37 - 0s - loss: 925.5079 - mean_squared_error: 925.5079 - val_loss: 708.5778 - val_mean_squared_error: 708.5778 - 172ms/epoch - 5ms/step\n",
            "Epoch 6/200\n",
            "37/37 - 0s - loss: 899.7853 - mean_squared_error: 899.7853 - val_loss: 639.4890 - val_mean_squared_error: 639.4890 - 144ms/epoch - 4ms/step\n",
            "Epoch 7/200\n",
            "37/37 - 0s - loss: 900.9601 - mean_squared_error: 900.9601 - val_loss: 583.4822 - val_mean_squared_error: 583.4822 - 144ms/epoch - 4ms/step\n",
            "Epoch 8/200\n",
            "37/37 - 0s - loss: 952.2346 - mean_squared_error: 952.2346 - val_loss: 590.0372 - val_mean_squared_error: 590.0372 - 166ms/epoch - 4ms/step\n",
            "Epoch 9/200\n",
            "37/37 - 0s - loss: 932.0819 - mean_squared_error: 932.0819 - val_loss: 573.4314 - val_mean_squared_error: 573.4314 - 147ms/epoch - 4ms/step\n",
            "Epoch 10/200\n",
            "37/37 - 0s - loss: 811.9082 - mean_squared_error: 811.9082 - val_loss: 359.0026 - val_mean_squared_error: 359.0026 - 171ms/epoch - 5ms/step\n",
            "Epoch 11/200\n",
            "37/37 - 0s - loss: 862.5079 - mean_squared_error: 862.5079 - val_loss: 447.1071 - val_mean_squared_error: 447.1071 - 146ms/epoch - 4ms/step\n",
            "Epoch 12/200\n",
            "37/37 - 0s - loss: 806.3834 - mean_squared_error: 806.3834 - val_loss: 271.9654 - val_mean_squared_error: 271.9654 - 146ms/epoch - 4ms/step\n",
            "Epoch 13/200\n",
            "37/37 - 0s - loss: 479.3957 - mean_squared_error: 479.3957 - val_loss: 149.1452 - val_mean_squared_error: 149.1452 - 161ms/epoch - 4ms/step\n",
            "Epoch 14/200\n",
            "37/37 - 0s - loss: 322.7285 - mean_squared_error: 322.7285 - val_loss: 205.0250 - val_mean_squared_error: 205.0250 - 143ms/epoch - 4ms/step\n",
            "Epoch 15/200\n",
            "37/37 - 0s - loss: 296.2799 - mean_squared_error: 296.2799 - val_loss: 268.6106 - val_mean_squared_error: 268.6106 - 142ms/epoch - 4ms/step\n",
            "Epoch 16/200\n",
            "37/37 - 0s - loss: 178.7117 - mean_squared_error: 178.7117 - val_loss: 71.6576 - val_mean_squared_error: 71.6576 - 142ms/epoch - 4ms/step\n",
            "Epoch 17/200\n",
            "37/37 - 0s - loss: 80.5561 - mean_squared_error: 80.5561 - val_loss: 58.3448 - val_mean_squared_error: 58.3448 - 152ms/epoch - 4ms/step\n",
            "Epoch 18/200\n",
            "37/37 - 0s - loss: 47.1955 - mean_squared_error: 47.1955 - val_loss: 27.5846 - val_mean_squared_error: 27.5846 - 158ms/epoch - 4ms/step\n",
            "Epoch 19/200\n",
            "37/37 - 0s - loss: 27.0240 - mean_squared_error: 27.0240 - val_loss: 12.9362 - val_mean_squared_error: 12.9362 - 158ms/epoch - 4ms/step\n",
            "Epoch 20/200\n",
            "37/37 - 0s - loss: 19.8986 - mean_squared_error: 19.8986 - val_loss: 14.9443 - val_mean_squared_error: 14.9443 - 148ms/epoch - 4ms/step\n",
            "Epoch 21/200\n",
            "37/37 - 0s - loss: 19.1264 - mean_squared_error: 19.1264 - val_loss: 9.1257 - val_mean_squared_error: 9.1257 - 146ms/epoch - 4ms/step\n",
            "Epoch 22/200\n",
            "37/37 - 0s - loss: 16.6421 - mean_squared_error: 16.6421 - val_loss: 9.1705 - val_mean_squared_error: 9.1705 - 154ms/epoch - 4ms/step\n",
            "Epoch 23/200\n",
            "37/37 - 0s - loss: 16.1015 - mean_squared_error: 16.1015 - val_loss: 7.5823 - val_mean_squared_error: 7.5823 - 166ms/epoch - 4ms/step\n",
            "Epoch 24/200\n",
            "37/37 - 0s - loss: 15.0426 - mean_squared_error: 15.0426 - val_loss: 6.6005 - val_mean_squared_error: 6.6005 - 152ms/epoch - 4ms/step\n",
            "Epoch 25/200\n",
            "37/37 - 0s - loss: 14.2274 - mean_squared_error: 14.2274 - val_loss: 6.3700 - val_mean_squared_error: 6.3700 - 161ms/epoch - 4ms/step\n",
            "Epoch 26/200\n",
            "37/37 - 0s - loss: 13.8558 - mean_squared_error: 13.8558 - val_loss: 5.4235 - val_mean_squared_error: 5.4235 - 157ms/epoch - 4ms/step\n",
            "Epoch 27/200\n",
            "37/37 - 0s - loss: 13.0722 - mean_squared_error: 13.0722 - val_loss: 5.4701 - val_mean_squared_error: 5.4701 - 149ms/epoch - 4ms/step\n",
            "Epoch 28/200\n",
            "37/37 - 0s - loss: 12.9602 - mean_squared_error: 12.9602 - val_loss: 4.8294 - val_mean_squared_error: 4.8294 - 151ms/epoch - 4ms/step\n",
            "Epoch 29/200\n",
            "37/37 - 0s - loss: 12.2943 - mean_squared_error: 12.2943 - val_loss: 4.7967 - val_mean_squared_error: 4.7967 - 145ms/epoch - 4ms/step\n",
            "Epoch 30/200\n",
            "37/37 - 0s - loss: 12.2537 - mean_squared_error: 12.2537 - val_loss: 4.5558 - val_mean_squared_error: 4.5558 - 159ms/epoch - 4ms/step\n",
            "Epoch 31/200\n",
            "37/37 - 0s - loss: 11.7742 - mean_squared_error: 11.7742 - val_loss: 4.2204 - val_mean_squared_error: 4.2204 - 168ms/epoch - 5ms/step\n",
            "Epoch 32/200\n",
            "37/37 - 0s - loss: 11.5973 - mean_squared_error: 11.5973 - val_loss: 4.5778 - val_mean_squared_error: 4.5778 - 160ms/epoch - 4ms/step\n",
            "Epoch 33/200\n",
            "37/37 - 0s - loss: 11.7026 - mean_squared_error: 11.7026 - val_loss: 3.9121 - val_mean_squared_error: 3.9121 - 149ms/epoch - 4ms/step\n",
            "Epoch 34/200\n",
            "37/37 - 0s - loss: 10.9556 - mean_squared_error: 10.9556 - val_loss: 4.3198 - val_mean_squared_error: 4.3198 - 149ms/epoch - 4ms/step\n",
            "Epoch 35/200\n",
            "37/37 - 0s - loss: 12.7644 - mean_squared_error: 12.7644 - val_loss: 5.1248 - val_mean_squared_error: 5.1248 - 153ms/epoch - 4ms/step\n",
            "Epoch 36/200\n",
            "37/37 - 0s - loss: 13.4350 - mean_squared_error: 13.4350 - val_loss: 8.7303 - val_mean_squared_error: 8.7303 - 167ms/epoch - 5ms/step\n",
            "Epoch 37/200\n",
            "37/37 - 0s - loss: 25.9343 - mean_squared_error: 25.9343 - val_loss: 50.3030 - val_mean_squared_error: 50.3030 - 156ms/epoch - 4ms/step\n",
            "Epoch 38/200\n",
            "37/37 - 0s - loss: 101.2273 - mean_squared_error: 101.2273 - val_loss: 91.4811 - val_mean_squared_error: 91.4811 - 150ms/epoch - 4ms/step\n",
            "Epoch 39/200\n",
            "37/37 - 0s - loss: 64.5014 - mean_squared_error: 64.5014 - val_loss: 116.5965 - val_mean_squared_error: 116.5965 - 154ms/epoch - 4ms/step\n",
            "Epoch 40/200\n",
            "37/37 - 0s - loss: 124.1245 - mean_squared_error: 124.1245 - val_loss: 48.1062 - val_mean_squared_error: 48.1062 - 146ms/epoch - 4ms/step\n",
            "Epoch 41/200\n",
            "37/37 - 0s - loss: 35.6811 - mean_squared_error: 35.6811 - val_loss: 46.8436 - val_mean_squared_error: 46.8436 - 146ms/epoch - 4ms/step\n",
            "Epoch 42/200\n",
            "37/37 - 0s - loss: 45.2984 - mean_squared_error: 45.2984 - val_loss: 70.4105 - val_mean_squared_error: 70.4105 - 145ms/epoch - 4ms/step\n",
            "Epoch 43/200\n",
            "37/37 - 0s - loss: 76.0245 - mean_squared_error: 76.0245 - val_loss: 14.9170 - val_mean_squared_error: 14.9170 - 158ms/epoch - 4ms/step\n",
            "Epoch 44/200\n",
            "37/37 - 0s - loss: 20.9130 - mean_squared_error: 20.9130 - val_loss: 18.8085 - val_mean_squared_error: 18.8085 - 148ms/epoch - 4ms/step\n",
            "Epoch 45/200\n",
            "37/37 - 0s - loss: 26.0346 - mean_squared_error: 26.0346 - val_loss: 35.3090 - val_mean_squared_error: 35.3090 - 156ms/epoch - 4ms/step\n",
            "Epoch 46/200\n",
            "37/37 - 0s - loss: 46.2369 - mean_squared_error: 46.2369 - val_loss: 8.6554 - val_mean_squared_error: 8.6554 - 151ms/epoch - 4ms/step\n",
            "Epoch 47/200\n",
            "37/37 - 0s - loss: 18.3655 - mean_squared_error: 18.3655 - val_loss: 10.7604 - val_mean_squared_error: 10.7604 - 153ms/epoch - 4ms/step\n",
            "Epoch 48/200\n",
            "37/37 - 0s - loss: 18.5459 - mean_squared_error: 18.5459 - val_loss: 5.3383 - val_mean_squared_error: 5.3383 - 142ms/epoch - 4ms/step\n",
            "Epoch 49/200\n",
            "37/37 - 0s - loss: 13.2250 - mean_squared_error: 13.2250 - val_loss: 8.4442 - val_mean_squared_error: 8.4442 - 171ms/epoch - 5ms/step\n",
            "Epoch 50/200\n",
            "37/37 - 0s - loss: 18.7059 - mean_squared_error: 18.7059 - val_loss: 9.8841 - val_mean_squared_error: 9.8841 - 142ms/epoch - 4ms/step\n",
            "Epoch 51/200\n",
            "37/37 - 0s - loss: 16.8420 - mean_squared_error: 16.8420 - val_loss: 17.3425 - val_mean_squared_error: 17.3425 - 154ms/epoch - 4ms/step\n",
            "Epoch 52/200\n",
            "37/37 - 0s - loss: 34.9043 - mean_squared_error: 34.9043 - val_loss: 31.8711 - val_mean_squared_error: 31.8711 - 161ms/epoch - 4ms/step\n",
            "Epoch 53/200\n",
            "37/37 - 0s - loss: 34.2629 - mean_squared_error: 34.2629 - val_loss: 44.1037 - val_mean_squared_error: 44.1037 - 157ms/epoch - 4ms/step\n",
            "Epoch 54/200\n",
            "37/37 - 0s - loss: 70.0429 - mean_squared_error: 70.0429 - val_loss: 25.9422 - val_mean_squared_error: 25.9422 - 146ms/epoch - 4ms/step\n",
            "Epoch 55/200\n",
            "37/37 - 0s - loss: 36.2459 - mean_squared_error: 36.2459 - val_loss: 33.8643 - val_mean_squared_error: 33.8643 - 149ms/epoch - 4ms/step\n",
            "Epoch 56/200\n",
            "37/37 - 0s - loss: 49.9179 - mean_squared_error: 49.9179 - val_loss: 15.2019 - val_mean_squared_error: 15.2019 - 155ms/epoch - 4ms/step\n",
            "Epoch 57/200\n",
            "37/37 - 0s - loss: 25.1686 - mean_squared_error: 25.1686 - val_loss: 19.2630 - val_mean_squared_error: 19.2630 - 164ms/epoch - 4ms/step\n",
            "Epoch 58/200\n",
            "37/37 - 0s - loss: 29.6551 - mean_squared_error: 29.6551 - val_loss: 9.0674 - val_mean_squared_error: 9.0674 - 190ms/epoch - 5ms/step\n",
            "Epoch 59/200\n",
            "37/37 - 0s - loss: 18.9189 - mean_squared_error: 18.9189 - val_loss: 11.9869 - val_mean_squared_error: 11.9869 - 145ms/epoch - 4ms/step\n",
            "Epoch 60/200\n",
            "37/37 - 0s - loss: 21.8596 - mean_squared_error: 21.8596 - val_loss: 9.1901 - val_mean_squared_error: 9.1901 - 173ms/epoch - 5ms/step\n",
            "Epoch 61/200\n",
            "37/37 - 0s - loss: 17.9152 - mean_squared_error: 17.9152 - val_loss: 13.8703 - val_mean_squared_error: 13.8703 - 143ms/epoch - 4ms/step\n",
            "Epoch 62/200\n",
            "37/37 - 0s - loss: 27.4450 - mean_squared_error: 27.4450 - val_loss: 18.3288 - val_mean_squared_error: 18.3288 - 165ms/epoch - 4ms/step\n",
            "Epoch 63/200\n",
            "37/37 - 0s - loss: 26.4321 - mean_squared_error: 26.4321 - val_loss: 24.9812 - val_mean_squared_error: 24.9812 - 155ms/epoch - 4ms/step\n",
            "Epoch 64/200\n",
            "37/37 - 0s - loss: 47.1051 - mean_squared_error: 47.1051 - val_loss: 29.2119 - val_mean_squared_error: 29.2119 - 155ms/epoch - 4ms/step\n",
            "Epoch 65/200\n",
            "37/37 - 0s - loss: 36.0755 - mean_squared_error: 36.0755 - val_loss: 30.7822 - val_mean_squared_error: 30.7822 - 152ms/epoch - 4ms/step\n",
            "Epoch 66/200\n",
            "37/37 - 0s - loss: 53.2831 - mean_squared_error: 53.2831 - val_loss: 25.0960 - val_mean_squared_error: 25.0960 - 236ms/epoch - 6ms/step\n",
            "Epoch 67/200\n",
            "37/37 - 0s - loss: 31.4406 - mean_squared_error: 31.4406 - val_loss: 23.0697 - val_mean_squared_error: 23.0697 - 266ms/epoch - 7ms/step\n",
            "Epoch 68/200\n",
            "37/37 - 0s - loss: 36.5224 - mean_squared_error: 36.5224 - val_loss: 9.7711 - val_mean_squared_error: 9.7711 - 270ms/epoch - 7ms/step\n",
            "Epoch 69/200\n",
            "37/37 - 0s - loss: 20.3863 - mean_squared_error: 20.3863 - val_loss: 10.1286 - val_mean_squared_error: 10.1286 - 228ms/epoch - 6ms/step\n",
            "Epoch 70/200\n",
            "37/37 - 0s - loss: 19.5444 - mean_squared_error: 19.5444 - val_loss: 6.3819 - val_mean_squared_error: 6.3819 - 267ms/epoch - 7ms/step\n",
            "Epoch 71/200\n",
            "37/37 - 0s - loss: 14.6917 - mean_squared_error: 14.6917 - val_loss: 8.4710 - val_mean_squared_error: 8.4710 - 291ms/epoch - 8ms/step\n",
            "Epoch 72/200\n",
            "37/37 - 0s - loss: 18.5802 - mean_squared_error: 18.5802 - val_loss: 10.0825 - val_mean_squared_error: 10.0825 - 266ms/epoch - 7ms/step\n",
            "Epoch 73/200\n",
            "37/37 - 0s - loss: 18.0980 - mean_squared_error: 18.0980 - val_loss: 14.5812 - val_mean_squared_error: 14.5812 - 261ms/epoch - 7ms/step\n",
            "Epoch 74/200\n",
            "37/37 - 0s - loss: 30.3808 - mean_squared_error: 30.3808 - val_loss: 22.0239 - val_mean_squared_error: 22.0239 - 225ms/epoch - 6ms/step\n",
            "Epoch 75/200\n",
            "37/37 - 0s - loss: 30.8109 - mean_squared_error: 30.8109 - val_loss: 25.0864 - val_mean_squared_error: 25.0864 - 229ms/epoch - 6ms/step\n",
            "Epoch 76/200\n",
            "37/37 - 0s - loss: 52.5846 - mean_squared_error: 52.5846 - val_loss: 34.6205 - val_mean_squared_error: 34.6205 - 150ms/epoch - 4ms/step\n",
            "Epoch 77/200\n",
            "37/37 - 0s - loss: 40.0916 - mean_squared_error: 40.0916 - val_loss: 35.0625 - val_mean_squared_error: 35.0625 - 156ms/epoch - 4ms/step\n",
            "Epoch 78/200\n",
            "37/37 - 0s - loss: 60.6800 - mean_squared_error: 60.6800 - val_loss: 28.2696 - val_mean_squared_error: 28.2696 - 144ms/epoch - 4ms/step\n",
            "Epoch 79/200\n",
            "37/37 - 0s - loss: 38.4854 - mean_squared_error: 38.4854 - val_loss: 33.4841 - val_mean_squared_error: 33.4841 - 148ms/epoch - 4ms/step\n",
            "Epoch 80/200\n",
            "37/37 - 0s - loss: 58.9403 - mean_squared_error: 58.9403 - val_loss: 40.3652 - val_mean_squared_error: 40.3652 - 144ms/epoch - 4ms/step\n",
            "Epoch 81/200\n",
            "37/37 - 0s - loss: 34.4039 - mean_squared_error: 34.4039 - val_loss: 42.7854 - val_mean_squared_error: 42.7854 - 146ms/epoch - 4ms/step\n",
            "Epoch 82/200\n",
            "37/37 - 0s - loss: 55.5132 - mean_squared_error: 55.5132 - val_loss: 22.1022 - val_mean_squared_error: 22.1022 - 164ms/epoch - 4ms/step\n",
            "Epoch 83/200\n",
            "37/37 - 0s - loss: 32.6203 - mean_squared_error: 32.6203 - val_loss: 24.2589 - val_mean_squared_error: 24.2589 - 144ms/epoch - 4ms/step\n",
            "Epoch 84/200\n",
            "37/37 - 0s - loss: 29.7255 - mean_squared_error: 29.7255 - val_loss: 4.5801 - val_mean_squared_error: 4.5801 - 188ms/epoch - 5ms/step\n",
            "Epoch 85/200\n",
            "37/37 - 0s - loss: 14.2550 - mean_squared_error: 14.2550 - val_loss: 4.5026 - val_mean_squared_error: 4.5026 - 145ms/epoch - 4ms/step\n",
            "Epoch 86/200\n",
            "37/37 - 0s - loss: 11.0206 - mean_squared_error: 11.0206 - val_loss: 3.4698 - val_mean_squared_error: 3.4698 - 157ms/epoch - 4ms/step\n",
            "Epoch 87/200\n",
            "37/37 - 0s - loss: 9.7503 - mean_squared_error: 9.7503 - val_loss: 3.1093 - val_mean_squared_error: 3.1093 - 140ms/epoch - 4ms/step\n",
            "Epoch 88/200\n",
            "37/37 - 0s - loss: 9.8004 - mean_squared_error: 9.8004 - val_loss: 3.4268 - val_mean_squared_error: 3.4268 - 161ms/epoch - 4ms/step\n",
            "Epoch 89/200\n",
            "37/37 - 0s - loss: 9.3230 - mean_squared_error: 9.3230 - val_loss: 3.1159 - val_mean_squared_error: 3.1159 - 156ms/epoch - 4ms/step\n",
            "Epoch 90/200\n",
            "37/37 - 0s - loss: 9.4464 - mean_squared_error: 9.4464 - val_loss: 3.3620 - val_mean_squared_error: 3.3620 - 168ms/epoch - 5ms/step\n",
            "Epoch 91/200\n",
            "37/37 - 0s - loss: 9.1502 - mean_squared_error: 9.1502 - val_loss: 3.2173 - val_mean_squared_error: 3.2173 - 155ms/epoch - 4ms/step\n",
            "Epoch 92/200\n",
            "37/37 - 0s - loss: 9.2773 - mean_squared_error: 9.2773 - val_loss: 3.3513 - val_mean_squared_error: 3.3513 - 142ms/epoch - 4ms/step\n",
            "Epoch 93/200\n",
            "37/37 - 0s - loss: 9.1603 - mean_squared_error: 9.1603 - val_loss: 3.3768 - val_mean_squared_error: 3.3768 - 149ms/epoch - 4ms/step\n",
            "Epoch 94/200\n",
            "37/37 - 0s - loss: 9.3940 - mean_squared_error: 9.3940 - val_loss: 3.7640 - val_mean_squared_error: 3.7640 - 161ms/epoch - 4ms/step\n",
            "Epoch 95/200\n",
            "37/37 - 0s - loss: 9.8354 - mean_squared_error: 9.8354 - val_loss: 4.7380 - val_mean_squared_error: 4.7380 - 156ms/epoch - 4ms/step\n",
            "Epoch 96/200\n",
            "37/37 - 0s - loss: 13.2177 - mean_squared_error: 13.2177 - val_loss: 11.1606 - val_mean_squared_error: 11.1606 - 149ms/epoch - 4ms/step\n",
            "Epoch 97/200\n",
            "37/37 - 0s - loss: 22.8687 - mean_squared_error: 22.8687 - val_loss: 24.7728 - val_mean_squared_error: 24.7728 - 153ms/epoch - 4ms/step\n",
            "Epoch 98/200\n",
            "37/37 - 0s - loss: 77.0601 - mean_squared_error: 77.0601 - val_loss: 97.4868 - val_mean_squared_error: 97.4868 - 145ms/epoch - 4ms/step\n",
            "Epoch 99/200\n",
            "37/37 - 0s - loss: 86.1077 - mean_squared_error: 86.1077 - val_loss: 81.7269 - val_mean_squared_error: 81.7269 - 146ms/epoch - 4ms/step\n",
            "Epoch 100/200\n",
            "37/37 - 0s - loss: 178.3168 - mean_squared_error: 178.3168 - val_loss: 47.9468 - val_mean_squared_error: 47.9468 - 143ms/epoch - 4ms/step\n",
            "Epoch 101/200\n",
            "37/37 - 0s - loss: 144.4055 - mean_squared_error: 144.4055 - val_loss: 18.1711 - val_mean_squared_error: 18.1711 - 163ms/epoch - 4ms/step\n",
            "Epoch 102/200\n",
            "37/37 - 0s - loss: 56.0023 - mean_squared_error: 56.0023 - val_loss: 61.1796 - val_mean_squared_error: 61.1796 - 143ms/epoch - 4ms/step\n",
            "Epoch 103/200\n",
            "37/37 - 0s - loss: 81.1807 - mean_squared_error: 81.1807 - val_loss: 23.1239 - val_mean_squared_error: 23.1239 - 162ms/epoch - 4ms/step\n",
            "Epoch 104/200\n",
            "37/37 - 0s - loss: 54.9688 - mean_squared_error: 54.9688 - val_loss: 44.9783 - val_mean_squared_error: 44.9783 - 152ms/epoch - 4ms/step\n",
            "Epoch 105/200\n",
            "37/37 - 0s - loss: 44.6050 - mean_squared_error: 44.6050 - val_loss: 25.8594 - val_mean_squared_error: 25.8594 - 148ms/epoch - 4ms/step\n",
            "Epoch 106/200\n",
            "37/37 - 0s - loss: 23.2103 - mean_squared_error: 23.2103 - val_loss: 26.4859 - val_mean_squared_error: 26.4859 - 150ms/epoch - 4ms/step\n",
            "Epoch 107/200\n",
            "37/37 - 0s - loss: 21.8612 - mean_squared_error: 21.8612 - val_loss: 25.7222 - val_mean_squared_error: 25.7222 - 207ms/epoch - 6ms/step\n",
            "Epoch 108/200\n",
            "37/37 - 0s - loss: 22.5558 - mean_squared_error: 22.5558 - val_loss: 3.4721 - val_mean_squared_error: 3.4721 - 154ms/epoch - 4ms/step\n",
            "Epoch 109/200\n",
            "37/37 - 0s - loss: 10.7283 - mean_squared_error: 10.7283 - val_loss: 3.8218 - val_mean_squared_error: 3.8218 - 152ms/epoch - 4ms/step\n",
            "Epoch 110/200\n",
            "37/37 - 0s - loss: 9.5705 - mean_squared_error: 9.5705 - val_loss: 4.4063 - val_mean_squared_error: 4.4063 - 146ms/epoch - 4ms/step\n",
            "Epoch 111/200\n",
            "37/37 - 0s - loss: 10.2873 - mean_squared_error: 10.2873 - val_loss: 3.4538 - val_mean_squared_error: 3.4538 - 153ms/epoch - 4ms/step\n",
            "Epoch 112/200\n",
            "37/37 - 0s - loss: 9.4157 - mean_squared_error: 9.4157 - val_loss: 3.7826 - val_mean_squared_error: 3.7826 - 142ms/epoch - 4ms/step\n",
            "Epoch 113/200\n",
            "37/37 - 0s - loss: 9.6839 - mean_squared_error: 9.6839 - val_loss: 3.1535 - val_mean_squared_error: 3.1535 - 149ms/epoch - 4ms/step\n",
            "Epoch 114/200\n",
            "37/37 - 0s - loss: 9.1842 - mean_squared_error: 9.1842 - val_loss: 3.3750 - val_mean_squared_error: 3.3750 - 161ms/epoch - 4ms/step\n",
            "Epoch 115/200\n",
            "37/37 - 0s - loss: 9.2207 - mean_squared_error: 9.2207 - val_loss: 3.2004 - val_mean_squared_error: 3.2004 - 138ms/epoch - 4ms/step\n",
            "Epoch 116/200\n",
            "37/37 - 0s - loss: 9.0850 - mean_squared_error: 9.0850 - val_loss: 3.2826 - val_mean_squared_error: 3.2826 - 154ms/epoch - 4ms/step\n",
            "Epoch 117/200\n",
            "37/37 - 0s - loss: 9.0528 - mean_squared_error: 9.0528 - val_loss: 3.2914 - val_mean_squared_error: 3.2914 - 151ms/epoch - 4ms/step\n",
            "Epoch 118/200\n",
            "37/37 - 0s - loss: 9.0439 - mean_squared_error: 9.0439 - val_loss: 3.2942 - val_mean_squared_error: 3.2942 - 153ms/epoch - 4ms/step\n",
            "Epoch 119/200\n",
            "37/37 - 0s - loss: 8.9748 - mean_squared_error: 8.9748 - val_loss: 3.3503 - val_mean_squared_error: 3.3503 - 143ms/epoch - 4ms/step\n",
            "Epoch 120/200\n",
            "37/37 - 0s - loss: 9.0304 - mean_squared_error: 9.0304 - val_loss: 3.3672 - val_mean_squared_error: 3.3672 - 150ms/epoch - 4ms/step\n",
            "Epoch 121/200\n",
            "37/37 - 0s - loss: 8.9188 - mean_squared_error: 8.9188 - val_loss: 3.4120 - val_mean_squared_error: 3.4120 - 149ms/epoch - 4ms/step\n",
            "Epoch 122/200\n",
            "37/37 - 0s - loss: 9.1467 - mean_squared_error: 9.1467 - val_loss: 3.5826 - val_mean_squared_error: 3.5826 - 153ms/epoch - 4ms/step\n",
            "Epoch 123/200\n",
            "37/37 - 0s - loss: 9.0349 - mean_squared_error: 9.0349 - val_loss: 3.7402 - val_mean_squared_error: 3.7402 - 147ms/epoch - 4ms/step\n",
            "Epoch 124/200\n",
            "37/37 - 0s - loss: 10.2989 - mean_squared_error: 10.2989 - val_loss: 5.1610 - val_mean_squared_error: 5.1610 - 146ms/epoch - 4ms/step\n",
            "Epoch 125/200\n",
            "37/37 - 0s - loss: 11.6198 - mean_squared_error: 11.6198 - val_loss: 7.8491 - val_mean_squared_error: 7.8491 - 140ms/epoch - 4ms/step\n",
            "Epoch 126/200\n",
            "37/37 - 0s - loss: 23.5758 - mean_squared_error: 23.5758 - val_loss: 25.7910 - val_mean_squared_error: 25.7910 - 142ms/epoch - 4ms/step\n",
            "Epoch 127/200\n",
            "37/37 - 0s - loss: 32.3063 - mean_squared_error: 32.3063 - val_loss: 41.3525 - val_mean_squared_error: 41.3525 - 155ms/epoch - 4ms/step\n",
            "Epoch 128/200\n",
            "37/37 - 0s - loss: 80.8150 - mean_squared_error: 80.8150 - val_loss: 45.3147 - val_mean_squared_error: 45.3147 - 154ms/epoch - 4ms/step\n",
            "Epoch 129/200\n",
            "37/37 - 0s - loss: 57.4668 - mean_squared_error: 57.4668 - val_loss: 64.5632 - val_mean_squared_error: 64.5632 - 142ms/epoch - 4ms/step\n",
            "Epoch 130/200\n",
            "37/37 - 0s - loss: 76.1647 - mean_squared_error: 76.1647 - val_loss: 21.6834 - val_mean_squared_error: 21.6834 - 151ms/epoch - 4ms/step\n",
            "Epoch 131/200\n",
            "37/37 - 0s - loss: 46.8982 - mean_squared_error: 46.8982 - val_loss: 53.6256 - val_mean_squared_error: 53.6256 - 145ms/epoch - 4ms/step\n",
            "Epoch 132/200\n",
            "37/37 - 0s - loss: 54.9694 - mean_squared_error: 54.9694 - val_loss: 57.5250 - val_mean_squared_error: 57.5250 - 166ms/epoch - 4ms/step\n",
            "Epoch 133/200\n",
            "37/37 - 0s - loss: 52.5154 - mean_squared_error: 52.5154 - val_loss: 29.4905 - val_mean_squared_error: 29.4905 - 146ms/epoch - 4ms/step\n",
            "Epoch 134/200\n",
            "37/37 - 0s - loss: 28.9119 - mean_squared_error: 28.9119 - val_loss: 6.4678 - val_mean_squared_error: 6.4678 - 158ms/epoch - 4ms/step\n",
            "Epoch 135/200\n",
            "37/37 - 0s - loss: 14.2076 - mean_squared_error: 14.2076 - val_loss: 7.2367 - val_mean_squared_error: 7.2367 - 159ms/epoch - 4ms/step\n",
            "Epoch 136/200\n",
            "37/37 - 0s - loss: 11.3848 - mean_squared_error: 11.3848 - val_loss: 8.7298 - val_mean_squared_error: 8.7298 - 155ms/epoch - 4ms/step\n",
            "Epoch 137/200\n",
            "37/37 - 0s - loss: 14.6976 - mean_squared_error: 14.6976 - val_loss: 7.3367 - val_mean_squared_error: 7.3367 - 147ms/epoch - 4ms/step\n",
            "Epoch 138/200\n",
            "37/37 - 0s - loss: 11.9822 - mean_squared_error: 11.9822 - val_loss: 5.9835 - val_mean_squared_error: 5.9835 - 145ms/epoch - 4ms/step\n",
            "Epoch 139/200\n",
            "37/37 - 0s - loss: 12.1343 - mean_squared_error: 12.1343 - val_loss: 3.7837 - val_mean_squared_error: 3.7837 - 147ms/epoch - 4ms/step\n",
            "Epoch 140/200\n",
            "37/37 - 0s - loss: 9.7704 - mean_squared_error: 9.7704 - val_loss: 3.6106 - val_mean_squared_error: 3.6106 - 267ms/epoch - 7ms/step\n",
            "Epoch 141/200\n",
            "37/37 - 0s - loss: 9.5597 - mean_squared_error: 9.5597 - val_loss: 2.9860 - val_mean_squared_error: 2.9860 - 259ms/epoch - 7ms/step\n",
            "Epoch 142/200\n",
            "37/37 - 0s - loss: 8.8957 - mean_squared_error: 8.8957 - val_loss: 3.1407 - val_mean_squared_error: 3.1407 - 227ms/epoch - 6ms/step\n",
            "Epoch 143/200\n",
            "37/37 - 0s - loss: 8.9638 - mean_squared_error: 8.9638 - val_loss: 3.0200 - val_mean_squared_error: 3.0200 - 223ms/epoch - 6ms/step\n",
            "Epoch 144/200\n",
            "37/37 - 0s - loss: 8.6993 - mean_squared_error: 8.6993 - val_loss: 3.0391 - val_mean_squared_error: 3.0391 - 276ms/epoch - 7ms/step\n",
            "Epoch 145/200\n",
            "37/37 - 0s - loss: 8.8670 - mean_squared_error: 8.8670 - val_loss: 3.1639 - val_mean_squared_error: 3.1639 - 259ms/epoch - 7ms/step\n",
            "Epoch 146/200\n",
            "37/37 - 0s - loss: 8.6502 - mean_squared_error: 8.6502 - val_loss: 3.1093 - val_mean_squared_error: 3.1093 - 224ms/epoch - 6ms/step\n",
            "Epoch 147/200\n",
            "37/37 - 0s - loss: 9.1335 - mean_squared_error: 9.1335 - val_loss: 3.7683 - val_mean_squared_error: 3.7683 - 238ms/epoch - 6ms/step\n",
            "Epoch 148/200\n",
            "37/37 - 0s - loss: 9.3277 - mean_squared_error: 9.3277 - val_loss: 4.4251 - val_mean_squared_error: 4.4251 - 281ms/epoch - 8ms/step\n",
            "Epoch 149/200\n",
            "37/37 - 0s - loss: 13.1455 - mean_squared_error: 13.1455 - val_loss: 11.0764 - val_mean_squared_error: 11.0764 - 269ms/epoch - 7ms/step\n",
            "Epoch 150/200\n",
            "37/37 - 0s - loss: 19.3076 - mean_squared_error: 19.3076 - val_loss: 19.0180 - val_mean_squared_error: 19.0180 - 156ms/epoch - 4ms/step\n",
            "Epoch 151/200\n",
            "37/37 - 0s - loss: 46.9260 - mean_squared_error: 46.9260 - val_loss: 49.5637 - val_mean_squared_error: 49.5637 - 152ms/epoch - 4ms/step\n",
            "Epoch 152/200\n",
            "37/37 - 0s - loss: 51.4460 - mean_squared_error: 51.4460 - val_loss: 62.8279 - val_mean_squared_error: 62.8279 - 151ms/epoch - 4ms/step\n",
            "Epoch 153/200\n",
            "37/37 - 0s - loss: 135.5573 - mean_squared_error: 135.5573 - val_loss: 19.2075 - val_mean_squared_error: 19.2075 - 146ms/epoch - 4ms/step\n",
            "Epoch 154/200\n",
            "37/37 - 0s - loss: 43.9266 - mean_squared_error: 43.9266 - val_loss: 11.8351 - val_mean_squared_error: 11.8351 - 163ms/epoch - 4ms/step\n",
            "Epoch 155/200\n",
            "37/37 - 0s - loss: 61.3682 - mean_squared_error: 61.3682 - val_loss: 68.4606 - val_mean_squared_error: 68.4606 - 143ms/epoch - 4ms/step\n",
            "Epoch 156/200\n",
            "37/37 - 0s - loss: 98.0792 - mean_squared_error: 98.0792 - val_loss: 15.4873 - val_mean_squared_error: 15.4873 - 144ms/epoch - 4ms/step\n",
            "Epoch 157/200\n",
            "37/37 - 0s - loss: 52.2751 - mean_squared_error: 52.2751 - val_loss: 62.5164 - val_mean_squared_error: 62.5164 - 158ms/epoch - 4ms/step\n",
            "Epoch 158/200\n",
            "37/37 - 0s - loss: 77.7167 - mean_squared_error: 77.7167 - val_loss: 17.6014 - val_mean_squared_error: 17.6014 - 149ms/epoch - 4ms/step\n",
            "Epoch 159/200\n",
            "37/37 - 0s - loss: 37.1988 - mean_squared_error: 37.1988 - val_loss: 18.0225 - val_mean_squared_error: 18.0225 - 156ms/epoch - 4ms/step\n",
            "Epoch 160/200\n",
            "37/37 - 0s - loss: 24.4466 - mean_squared_error: 24.4466 - val_loss: 22.6004 - val_mean_squared_error: 22.6004 - 151ms/epoch - 4ms/step\n",
            "Epoch 161/200\n",
            "37/37 - 0s - loss: 21.0954 - mean_squared_error: 21.0954 - val_loss: 8.8851 - val_mean_squared_error: 8.8851 - 151ms/epoch - 4ms/step\n",
            "Epoch 162/200\n",
            "37/37 - 0s - loss: 11.6870 - mean_squared_error: 11.6870 - val_loss: 7.6780 - val_mean_squared_error: 7.6780 - 149ms/epoch - 4ms/step\n",
            "Epoch 163/200\n",
            "37/37 - 0s - loss: 10.9187 - mean_squared_error: 10.9187 - val_loss: 3.6013 - val_mean_squared_error: 3.6013 - 156ms/epoch - 4ms/step\n",
            "Epoch 164/200\n",
            "37/37 - 0s - loss: 9.2018 - mean_squared_error: 9.2018 - val_loss: 3.5297 - val_mean_squared_error: 3.5297 - 149ms/epoch - 4ms/step\n",
            "Epoch 165/200\n",
            "37/37 - 0s - loss: 9.1606 - mean_squared_error: 9.1606 - val_loss: 3.0275 - val_mean_squared_error: 3.0275 - 159ms/epoch - 4ms/step\n",
            "Epoch 166/200\n",
            "37/37 - 0s - loss: 8.8165 - mean_squared_error: 8.8165 - val_loss: 3.0743 - val_mean_squared_error: 3.0743 - 158ms/epoch - 4ms/step\n",
            "Epoch 167/200\n",
            "37/37 - 0s - loss: 8.7934 - mean_squared_error: 8.7934 - val_loss: 2.9915 - val_mean_squared_error: 2.9915 - 164ms/epoch - 4ms/step\n",
            "Epoch 168/200\n",
            "37/37 - 0s - loss: 8.7165 - mean_squared_error: 8.7165 - val_loss: 3.0167 - val_mean_squared_error: 3.0167 - 145ms/epoch - 4ms/step\n",
            "Epoch 169/200\n",
            "37/37 - 0s - loss: 8.6598 - mean_squared_error: 8.6598 - val_loss: 3.0015 - val_mean_squared_error: 3.0015 - 139ms/epoch - 4ms/step\n",
            "Epoch 170/200\n",
            "37/37 - 0s - loss: 8.6425 - mean_squared_error: 8.6425 - val_loss: 3.0037 - val_mean_squared_error: 3.0037 - 147ms/epoch - 4ms/step\n",
            "Epoch 171/200\n",
            "37/37 - 0s - loss: 8.5879 - mean_squared_error: 8.5879 - val_loss: 3.0132 - val_mean_squared_error: 3.0132 - 148ms/epoch - 4ms/step\n",
            "Epoch 172/200\n",
            "37/37 - 0s - loss: 8.5784 - mean_squared_error: 8.5784 - val_loss: 3.0062 - val_mean_squared_error: 3.0062 - 154ms/epoch - 4ms/step\n",
            "Epoch 173/200\n",
            "37/37 - 0s - loss: 8.5390 - mean_squared_error: 8.5390 - val_loss: 3.0240 - val_mean_squared_error: 3.0240 - 164ms/epoch - 4ms/step\n",
            "Epoch 174/200\n",
            "37/37 - 0s - loss: 8.5238 - mean_squared_error: 8.5238 - val_loss: 3.0172 - val_mean_squared_error: 3.0172 - 153ms/epoch - 4ms/step\n",
            "Epoch 175/200\n",
            "37/37 - 0s - loss: 8.5063 - mean_squared_error: 8.5063 - val_loss: 3.0397 - val_mean_squared_error: 3.0397 - 188ms/epoch - 5ms/step\n",
            "Epoch 176/200\n",
            "37/37 - 0s - loss: 8.4727 - mean_squared_error: 8.4727 - val_loss: 3.0293 - val_mean_squared_error: 3.0293 - 144ms/epoch - 4ms/step\n",
            "Epoch 177/200\n",
            "37/37 - 0s - loss: 8.5091 - mean_squared_error: 8.5091 - val_loss: 3.0838 - val_mean_squared_error: 3.0838 - 151ms/epoch - 4ms/step\n",
            "Epoch 178/200\n",
            "37/37 - 0s - loss: 8.4386 - mean_squared_error: 8.4386 - val_loss: 3.0651 - val_mean_squared_error: 3.0651 - 145ms/epoch - 4ms/step\n",
            "Epoch 179/200\n",
            "37/37 - 0s - loss: 8.7693 - mean_squared_error: 8.7693 - val_loss: 3.4000 - val_mean_squared_error: 3.4000 - 145ms/epoch - 4ms/step\n",
            "Epoch 180/200\n",
            "37/37 - 0s - loss: 9.0325 - mean_squared_error: 9.0325 - val_loss: 3.8940 - val_mean_squared_error: 3.8940 - 158ms/epoch - 4ms/step\n",
            "Epoch 181/200\n",
            "37/37 - 0s - loss: 13.2173 - mean_squared_error: 13.2173 - val_loss: 8.8611 - val_mean_squared_error: 8.8611 - 148ms/epoch - 4ms/step\n",
            "Epoch 182/200\n",
            "37/37 - 0s - loss: 18.4749 - mean_squared_error: 18.4749 - val_loss: 17.3610 - val_mean_squared_error: 17.3610 - 144ms/epoch - 4ms/step\n",
            "Epoch 183/200\n",
            "37/37 - 0s - loss: 45.8627 - mean_squared_error: 45.8627 - val_loss: 42.6682 - val_mean_squared_error: 42.6682 - 148ms/epoch - 4ms/step\n",
            "Epoch 184/200\n",
            "37/37 - 0s - loss: 47.2419 - mean_squared_error: 47.2419 - val_loss: 67.9841 - val_mean_squared_error: 67.9841 - 155ms/epoch - 4ms/step\n",
            "Epoch 185/200\n",
            "37/37 - 0s - loss: 125.5555 - mean_squared_error: 125.5555 - val_loss: 20.0096 - val_mean_squared_error: 20.0096 - 157ms/epoch - 4ms/step\n",
            "Epoch 186/200\n",
            "37/37 - 0s - loss: 54.4990 - mean_squared_error: 54.4990 - val_loss: 11.4487 - val_mean_squared_error: 11.4487 - 150ms/epoch - 4ms/step\n",
            "Epoch 187/200\n",
            "37/37 - 0s - loss: 73.6342 - mean_squared_error: 73.6342 - val_loss: 35.0376 - val_mean_squared_error: 35.0376 - 157ms/epoch - 4ms/step\n",
            "Epoch 188/200\n",
            "37/37 - 0s - loss: 69.1714 - mean_squared_error: 69.1714 - val_loss: 29.3118 - val_mean_squared_error: 29.3118 - 146ms/epoch - 4ms/step\n",
            "Epoch 189/200\n",
            "37/37 - 0s - loss: 41.5918 - mean_squared_error: 41.5918 - val_loss: 28.4933 - val_mean_squared_error: 28.4933 - 146ms/epoch - 4ms/step\n",
            "Epoch 190/200\n",
            "37/37 - 0s - loss: 32.8276 - mean_squared_error: 32.8276 - val_loss: 26.9385 - val_mean_squared_error: 26.9385 - 153ms/epoch - 4ms/step\n",
            "Epoch 191/200\n",
            "37/37 - 0s - loss: 23.7687 - mean_squared_error: 23.7687 - val_loss: 5.3786 - val_mean_squared_error: 5.3786 - 148ms/epoch - 4ms/step\n",
            "Epoch 192/200\n",
            "37/37 - 0s - loss: 11.4811 - mean_squared_error: 11.4811 - val_loss: 4.2840 - val_mean_squared_error: 4.2840 - 150ms/epoch - 4ms/step\n",
            "Epoch 193/200\n",
            "37/37 - 0s - loss: 9.4491 - mean_squared_error: 9.4491 - val_loss: 3.4288 - val_mean_squared_error: 3.4288 - 155ms/epoch - 4ms/step\n",
            "Epoch 194/200\n",
            "37/37 - 0s - loss: 9.2789 - mean_squared_error: 9.2789 - val_loss: 3.1460 - val_mean_squared_error: 3.1460 - 152ms/epoch - 4ms/step\n",
            "Epoch 195/200\n",
            "37/37 - 0s - loss: 8.9327 - mean_squared_error: 8.9327 - val_loss: 3.3286 - val_mean_squared_error: 3.3286 - 147ms/epoch - 4ms/step\n",
            "Epoch 196/200\n",
            "37/37 - 0s - loss: 8.9971 - mean_squared_error: 8.9971 - val_loss: 3.0246 - val_mean_squared_error: 3.0246 - 148ms/epoch - 4ms/step\n",
            "Epoch 197/200\n",
            "37/37 - 0s - loss: 8.7680 - mean_squared_error: 8.7680 - val_loss: 3.1128 - val_mean_squared_error: 3.1128 - 151ms/epoch - 4ms/step\n",
            "Epoch 198/200\n",
            "37/37 - 0s - loss: 8.7253 - mean_squared_error: 8.7253 - val_loss: 3.0311 - val_mean_squared_error: 3.0311 - 147ms/epoch - 4ms/step\n",
            "Epoch 199/200\n",
            "37/37 - 0s - loss: 8.6618 - mean_squared_error: 8.6618 - val_loss: 3.0475 - val_mean_squared_error: 3.0475 - 157ms/epoch - 4ms/step\n",
            "Epoch 200/200\n",
            "37/37 - 0s - loss: 8.5864 - mean_squared_error: 8.5864 - val_loss: 3.0501 - val_mean_squared_error: 3.0501 - 189ms/epoch - 5ms/step\n"
          ]
        }
      ],
      "source": [
        "#model_history=model.fit(x_train, y_train, validation_data=(x_test, y_test), batch_size=512, verbose=2, callbacks=[monitor], epochs=1000)\n",
        "#model_history=model.fit(x_train, y_train, validation_data=(x_test, y_test), batch_size=512, verbose=2, epochs=1000)\n",
        "#model_history=model.fit(X_train, y_train, validation_data=(X_validation, y_validation), verbose=2, callbacks=[monitor], epochs=100, shuffle = True)\n",
        "model_history=model.fit(X_train, y_train, validation_data=(X_validation, y_validation), verbose=2, epochs=200, shuffle = False)"
      ]
    },
    {
      "cell_type": "code",
      "execution_count": null,
      "metadata": {
        "colab": {
          "base_uri": "https://localhost:8080/"
        },
        "id": "aaXTMxsGWZPg",
        "outputId": "06cade2e-c3da-409c-855f-10f739466af0"
      },
      "outputs": [
        {
          "output_type": "stream",
          "name": "stdout",
          "text": [
            "10/10 [==============================] - 0s 2ms/step - loss: 3.0501 - mean_squared_error: 3.0501\n"
          ]
        },
        {
          "output_type": "execute_result",
          "data": {
            "text/plain": [
              "[3.05006742477417, 3.05006742477417]"
            ]
          },
          "metadata": {},
          "execution_count": 20
        }
      ],
      "source": [
        "# To evaluate model validation loss\n",
        "validation_loss = model.evaluate(X_validation, y_validation)\n",
        "validation_loss"
      ]
    },
    {
      "cell_type": "code",
      "execution_count": null,
      "metadata": {
        "colab": {
          "base_uri": "https://localhost:8080/",
          "height": 449
        },
        "id": "8Wr0YfsDXmCI",
        "outputId": "1f7114f0-9f5c-45bc-f45b-e4d1744d130f"
      },
      "outputs": [
        {
          "output_type": "display_data",
          "data": {
            "text/plain": [
              "<Figure size 640x480 with 1 Axes>"
            ],
            "image/png": "[encoded data removed]"
          },
          "metadata": {}
        }
      ],
      "source": [
        "# To plot training loss only\n",
        "loss = model_history.history['loss']\n",
        "epochs = range(1, len(loss)+1)\n",
        "plt.plot(epochs, loss, 'ro', label='Training loss')\n",
        "plt.xlabel('epoch')\n",
        "plt.legend()\n",
        "plt.show()"
      ]
    },
    {
      "cell_type": "code",
      "execution_count": null,
      "metadata": {
        "colab": {
          "base_uri": "https://localhost:8080/",
          "height": 869
        },
        "id": "Uj0XEKDbX8qG",
        "outputId": "f65a1c23-61f2-4314-fd93-b5bc74b4a436"
      },
      "outputs": [
        {
          "output_type": "stream",
          "name": "stderr",
          "text": [
            "WARNING:matplotlib.font_manager:findfont: Font family 'Arial' not found.\n",
            "WARNING:matplotlib.font_manager:findfont: Font family 'Arial' not found.\n",
            "WARNING:matplotlib.font_manager:findfont: Font family 'Arial' not found.\n",
            "WARNING:matplotlib.font_manager:findfont: Font family 'Arial' not found.\n",
            "WARNING:matplotlib.font_manager:findfont: Font family 'Arial' not found.\n",
            "WARNING:matplotlib.font_manager:findfont: Font family 'Arial' not found.\n",
            "WARNING:matplotlib.font_manager:findfont: Font family 'Arial' not found.\n",
            "WARNING:matplotlib.font_manager:findfont: Font family 'Arial' not found.\n",
            "WARNING:matplotlib.font_manager:findfont: Font family 'Arial' not found.\n"
          ]
        },
        {
          "output_type": "stream",
          "name": "stdout",
          "text": [
            "dict_keys(['loss', 'mean_squared_error', 'val_loss', 'val_mean_squared_error'])\n"
          ]
        },
        {
          "output_type": "stream",
          "name": "stderr",
          "text": [
            "WARNING:matplotlib.font_manager:findfont: Font family 'Arial' not found.\n",
            "WARNING:matplotlib.font_manager:findfont: Font family 'Arial' not found.\n",
            "WARNING:matplotlib.font_manager:findfont: Font family 'Arial' not found.\n",
            "WARNING:matplotlib.font_manager:findfont: Font family 'Arial' not found.\n",
            "WARNING:matplotlib.font_manager:findfont: Font family 'Arial' not found.\n",
            "WARNING:matplotlib.font_manager:findfont: Font family 'Arial' not found.\n",
            "WARNING:matplotlib.font_manager:findfont: Font family 'Arial' not found.\n",
            "WARNING:matplotlib.font_manager:findfont: Font family 'Arial' not found.\n",
            "WARNING:matplotlib.font_manager:findfont: Font family 'Arial' not found.\n",
            "WARNING:matplotlib.font_manager:findfont: Font family 'Arial' not found.\n",
            "WARNING:matplotlib.font_manager:findfont: Font family 'Arial' not found.\n",
            "WARNING:matplotlib.font_manager:findfont: Font family 'Arial' not found.\n"
          ]
        },
        {
          "output_type": "display_data",
          "data": {
            "text/plain": [
              "<Figure size 640x480 with 1 Axes>"
            ],
            "image/png": "[encoded data removed]"
          },
          "metadata": {}
        }
      ],
      "source": [
        "# list all data in history\n",
        "print(model_history.history.keys())\n",
        "%matplotlib inline\n",
        "# summarize history for accuracy\n",
        "acc = model_history.history['mean_squared_error']\n",
        "val_acc = model_history.history['val_mean_squared_error']\n",
        "hfont = {'fontname':'Arial'}\n",
        "plt.plot(acc, color='red',linewidth=4)\n",
        "plt.plot(val_acc, color='blue',linewidth=4)\n",
        "plt.title('Model Accuracy (NP)', fontsize=18, **hfont)\n",
        "plt.ylabel('Mean Absolute Error', fontsize=18, **hfont)\n",
        "plt.xlabel('Number of Epochs', fontsize=18, **hfont)\n",
        "plt.legend(['Train', 'Validation'], loc='upper right', prop={\"size\":18})\n",
        "plt.savefig('accuracy_3_layer.pdf')\n",
        "plt.show()"
      ]
    },
    {
      "cell_type": "code",
      "execution_count": null,
      "metadata": {
        "colab": {
          "base_uri": "https://localhost:8080/"
        },
        "id": "wdU1HsqiYCAG",
        "outputId": "cd1acd42-7aee-4edc-97bd-2d0733e71d2b"
      },
      "outputs": [
        {
          "output_type": "stream",
          "name": "stdout",
          "text": [
            "23/23 [==============================] - 0s 2ms/step\n"
          ]
        }
      ],
      "source": [
        "y_pred = model.predict(X_test)   "
      ]
    },
    {
      "cell_type": "code",
      "execution_count": null,
      "metadata": {
        "colab": {
          "base_uri": "https://localhost:8080/"
        },
        "id": "PuS9vQXTYJiW",
        "outputId": "fe6bcf21-a9a9-4dd2-f6d6-4a45c331c1c9"
      },
      "outputs": [
        {
          "output_type": "execute_result",
          "data": {
            "text/plain": [
              "(727, 24)"
            ]
          },
          "metadata": {},
          "execution_count": 24
        }
      ],
      "source": [
        "y_pred.shape"
      ]
    },
    {
      "cell_type": "code",
      "execution_count": null,
      "metadata": {
        "id": "1-LimpF5JfHm"
      },
      "outputs": [],
      "source": [
        "#inverse transform\n",
        "#from sklearn import preprocessing\n",
        "#y_pred = StandardScaler().inverse_transform(y_pred)\n"
      ]
    },
    {
      "cell_type": "code",
      "execution_count": null,
      "metadata": {
        "colab": {
          "base_uri": "https://localhost:8080/"
        },
        "id": "hOYjW6cRYTTc",
        "outputId": "e552a40c-bedc-404a-bc44-8694c9105576"
      },
      "outputs": [
        {
          "output_type": "stream",
          "name": "stdout",
          "text": [
            "Test relative Mean absolute error (rMAE): 0.25121331594136964\n",
            "Test Mean absolute error (MAE): 2.2297333532017016\n",
            "Test Mean percentage absolute error (MAPE): 7.098197910488096\n",
            "Test symmetric mean absolute percentage error (sMAPE): 1.5429740928727305\n",
            "Test Root mean squared error (RMSE): 3.8795150513177705\n"
          ]
        }
      ],
      "source": [
        "from sklearn.metrics import mean_absolute_percentage_error\n",
        "\n",
        "\n",
        "#rMAE_test(y_test, y_pred):\n",
        " #   numerator = np.sum(np.abs(y_pred - y_test))\n",
        "  #  denominator = np.sum(np.abs(np.mean(y_test) - y_test))\n",
        "   # return numerator / denominator\n",
        "\n",
        "rMAE= (np.sum(np.abs(y_pred - y_test)))/(np.sum(np.abs(np.mean(y_test) - y_test)))\n",
        "print(\"Test relative Mean absolute error (rMAE): {}\".format(rMAE))\n",
        "\n",
        "\n",
        "# Evaluating the model # Test error\n",
        "# Measure MAE error\n",
        "mae_test = metrics.mean_absolute_error(y_test, y_pred)\n",
        "print(\"Test Mean absolute error (MAE): {}\".format(mae_test))\n",
        "\n",
        "# Measure MSE error  \n",
        "#mse_test = metrics.mean_squared_error(y_test, y_pred)\n",
        "#print(\"Test Mean Squared error (MSE): {}\".format(mse_test))\n",
        "\n",
        "# Measure MAPE error\n",
        "mape_test = np.mean(np.abs((y_test - y_pred)/y_test))*100\n",
        "#mape_test = metrics.mean_absolute_percentage_error(y_test, y_pred)\n",
        "print(\"Test Mean percentage absolute error (MAPE): {}\".format(mape_test))\n",
        "\n",
        "# Measure sMAPE\n",
        "sMAPE = 1/len(y_pred)*(np.sum(2 * np.abs(y_pred-y_test)/(np.abs(y_test) + np.abs(y_pred))))\n",
        "#sMAPE = 1/len(y_test)*np.sum(2 * np.abs(y_pred-y_test)/(np.abs(y_test) + np.abs(y_pred)))\n",
        "print(\"Test symmetric mean absolute percentage error (sMAPE): {}\".format(sMAPE))\n",
        "\n",
        "\n",
        " #   def smape(A, F):\n",
        "    #return 100/len(A) * np.sum(2 * np.abs(F - A) / (np.abs(A) + np.abs(F)))\n",
        "\n",
        "\n",
        "# Measure RMSE error \n",
        "rmse_test = np.sqrt(metrics.mean_squared_error(y_test, y_pred))\n",
        "print(\"Test Root mean squared error (RMSE): {}\".format(rmse_test))"
      ]
    },
    {
      "cell_type": "code",
      "execution_count": null,
      "metadata": {
        "colab": {
          "base_uri": "https://localhost:8080/"
        },
        "id": "shp7MXudYWhw",
        "outputId": "3c54e68e-bd5a-4b43-e2a5-e1687d8ab94a"
      },
      "outputs": [
        {
          "output_type": "stream",
          "name": "stdout",
          "text": [
            "R2 Score Train: 0.8701911122307772\n"
          ]
        }
      ],
      "source": [
        "# Regression score for training\n",
        "\n",
        "r2_score_train = metrics.r2_score(y_test, y_pred)\n",
        "print(\"R2 Score Train: {}\".format(r2_score_train))"
      ]
    },
    {
      "cell_type": "code",
      "execution_count": null,
      "metadata": {
        "colab": {
          "base_uri": "https://localhost:8080/"
        },
        "id": "lhOXsNlx5Pme",
        "outputId": "120bab31-25f6-4a4b-ea60-a7c79721a3b3"
      },
      "outputs": [
        {
          "output_type": "execute_result",
          "data": {
            "text/plain": [
              "(727, 24)"
            ]
          },
          "metadata": {},
          "execution_count": 28
        }
      ],
      "source": [
        "y_pred.shape"
      ]
    },
    {
      "cell_type": "code",
      "execution_count": null,
      "metadata": {
        "colab": {
          "base_uri": "https://localhost:8080/"
        },
        "id": "Af6YNOtM5nrF",
        "outputId": "6fe3187d-c1fa-45c5-b54e-34bd1c471bfe"
      },
      "outputs": [
        {
          "output_type": "execute_result",
          "data": {
            "text/plain": [
              "(727, 24)"
            ]
          },
          "metadata": {},
          "execution_count": 29
        }
      ],
      "source": [
        "y_test.shape"
      ]
    },
    {
      "cell_type": "code",
      "execution_count": null,
      "metadata": {
        "colab": {
          "base_uri": "https://localhost:8080/",
          "height": 694
        },
        "id": "1MOVMy-w5vBU",
        "outputId": "f01e61e7-8e2f-4a55-b1b3-7624cce3a1cc"
      },
      "outputs": [
        {
          "output_type": "stream",
          "name": "stderr",
          "text": [
            "WARNING:matplotlib.font_manager:findfont: Font family 'Arial' not found.\n",
            "WARNING:matplotlib.font_manager:findfont: Font family 'Arial' not found.\n",
            "WARNING:matplotlib.font_manager:findfont: Font family 'Arial' not found.\n",
            "WARNING:matplotlib.font_manager:findfont: Font family 'Arial' not found.\n",
            "WARNING:matplotlib.font_manager:findfont: Font family 'Arial' not found.\n",
            "WARNING:matplotlib.font_manager:findfont: Font family 'Arial' not found.\n",
            "WARNING:matplotlib.font_manager:findfont: Font family 'Arial' not found.\n",
            "WARNING:matplotlib.font_manager:findfont: Font family 'Arial' not found.\n",
            "WARNING:matplotlib.font_manager:findfont: Font family 'Arial' not found.\n",
            "WARNING:matplotlib.font_manager:findfont: Font family 'Arial' not found.\n",
            "WARNING:matplotlib.font_manager:findfont: Font family 'Arial' not found.\n",
            "WARNING:matplotlib.font_manager:findfont: Font family 'Arial' not found.\n"
          ]
        },
        {
          "output_type": "display_data",
          "data": {
            "text/plain": [
              "<Figure size 640x480 with 1 Axes>"
            ],
            "image/png": "[encoded data removed]"
          },
          "metadata": {}
        }
      ],
      "source": [
        "test = y_test[120,1:]\n",
        "#test =np.roll(test, -1) #rotate left\n",
        "pred = y_pred[120,1:]\n",
        "plt.plot(test, color='red',linewidth=4)\n",
        "plt.plot(pred, color='green',linewidth=4)\n",
        "plt.title('Predicted Energy Price for a Day in NP*', fontsize=16, **hfont)\n",
        "plt.ylabel('$\\pi$', fontsize=18, **hfont)\n",
        "plt.xlabel('Hours ($T$)', fontsize=18, **hfont)\n",
        "plt.legend(['Actual Energy Price ($\\pi$)', 'Predicted Energy Price ($\\hat{\\pi}$)'], loc='best', prop={\"size\":13})\n",
        "plt.savefig('Prediction Curve  8 Aug 2017.pdf')"
      ]
    },
    {
      "cell_type": "code",
      "execution_count": null,
      "metadata": {
        "colab": {
          "base_uri": "https://localhost:8080/"
        },
        "id": "bb4QoGyH-zU5",
        "outputId": "6f546abd-5675-45bb-cdf7-9d89eb717ce6"
      },
      "outputs": [
        {
          "output_type": "execute_result",
          "data": {
            "text/plain": [
              "(727, 24)"
            ]
          },
          "metadata": {},
          "execution_count": 31
        }
      ],
      "source": [
        "y_test.shape"
      ]
    },
    {
      "cell_type": "code",
      "execution_count": null,
      "metadata": {
        "colab": {
          "base_uri": "https://localhost:8080/",
          "height": 500
        },
        "id": "YkLmOTbqAmit",
        "outputId": "389b2625-ff6c-4b4a-a6b2-500416324e49"
      },
      "outputs": [
        {
          "output_type": "stream",
          "name": "stderr",
          "text": [
            "WARNING:matplotlib.font_manager:findfont: Font family 'Arial' not found.\n",
            "WARNING:matplotlib.font_manager:findfont: Font family 'Arial' not found.\n",
            "WARNING:matplotlib.font_manager:findfont: Font family 'Arial' not found.\n",
            "WARNING:matplotlib.font_manager:findfont: Font family 'Arial' not found.\n",
            "WARNING:matplotlib.font_manager:findfont: Font family 'Arial' not found.\n",
            "WARNING:matplotlib.font_manager:findfont: Font family 'Arial' not found.\n",
            "WARNING:matplotlib.font_manager:findfont: Font family 'Arial' not found.\n",
            "WARNING:matplotlib.font_manager:findfont: Font family 'Arial' not found.\n",
            "WARNING:matplotlib.font_manager:findfont: Font family 'Arial' not found.\n"
          ]
        },
        {
          "output_type": "display_data",
          "data": {
            "text/plain": [
              "<Figure size 1000x300 with 1 Axes>"
            ],
            "image/png": "[encoded data removed]"
          },
          "metadata": {}
        }
      ],
      "source": [
        "y_test_reshape = y_test.reshape(-1)\n",
        "y_pred_reshape = y_pred.reshape(-1)\n",
        "\n",
        "plt.figure(figsize=(10,3))\n",
        "plt.plot(y_test_reshape, color='red',linewidth=1)\n",
        "plt.plot(y_pred_reshape, color='green',linewidth=1)\n",
        "plt.title('Predicted Energy Price (NP)', fontsize=16, **hfont)\n",
        "plt.ylabel('$\\pi$', fontsize=16, **hfont)\n",
        "plt.xlabel('Hours ($T$)', fontsize=16, **hfont)\n",
        "plt.legend(['Real Energy Price ($\\pi$)', 'Predicted Energy Price ($\\hat{\\pi}$)'], loc='best', prop={\"size\":16})\n",
        "plt.savefig('Prediction Curve NP for T1.pdf')"
      ]
    },
    {
      "cell_type": "code",
      "execution_count": null,
      "metadata": {
        "id": "vwFpl5yXUlX0"
      },
      "outputs": [],
      "source": [
        "df1 = pd.DataFrame(y_pred)\n",
        "\n",
        "df1.to_csv('pred_data_NP.csv')"
      ]
    },
    {
      "cell_type": "code",
      "execution_count": null,
      "metadata": {
        "id": "y9eprZ4OUzDd"
      },
      "outputs": [],
      "source": [
        "df2 = pd.DataFrame(y_test)\n",
        "\n",
        "df2.to_csv('test_data.csv')"
      ]
    },
    {
      "cell_type": "code",
      "source": [
        "end = timer()\n",
        "print(timedelta(seconds=end-start))"
      ],
      "metadata": {
        "colab": {
          "base_uri": "https://localhost:8080/"
        },
        "id": "2LcIpTOyolw1",
        "outputId": "89767c35-d891-4a15-e646-fb4eb9cb6b3b"
      },
      "execution_count": null,
      "outputs": [
        {
          "output_type": "stream",
          "name": "stdout",
          "text": [
            "0:01:54.647894\n"
          ]
        }
      ]
    },
    {
      "cell_type": "code",
      "source": [
        "%matplotlib inline\n",
        "import matplotlib.pyplot as plt\n",
        "plt.figure(figsize=(7,3))\n",
        "hfont = {'fontname':'Arial'}\n",
        "#plt.plot(EpisodeIndex, color='red',linewidth=3)\n",
        "\n",
        "rMAE  = [0.25, 0.4033, 1.09, 0.77]\n",
        "MAE  = [2.22, 2.845, 5.92, 4.27]\n",
        "MAPE = [7.09, 8.75, 14.09, 11.48]\n",
        "sMAPE = [1.54, 1.74, 3.24, 2.32]\n",
        "RMSE = [3.87, 4.80, 6.63, 5.41]\n",
        "R2 = [0.87, 0.72, 0.063, 0.43]\n",
        "\n",
        "\n",
        "\n",
        "plt.plot(rMAE,'p--', color='blue', linewidth=1)\n",
        "plt.plot(MAE,'v--', color='green',linewidth=1)\n",
        "plt.plot(MAPE,'o--', color='y',linewidth=1)\n",
        "plt.plot(sMAPE,'^--', color='m',linewidth=1)\n",
        "plt.plot(RMSE,'*--', color='k',linewidth=1)\n",
        "plt.plot(R2,'s--', color='r',linewidth=1)\n",
        "#plt.ylim(ymin = -15500)\n",
        "#plt.ylim(ymax = 1000)\n",
        "#plt.plot(AvgEpisodeReward_lr_3,'-.', color='blue',linewidth=2)\n",
        "plt.title('Error Matrices for different Training Instances (NP)', fontsize=16, **hfont)\n",
        "#plt.ylabel('Average Reward $(\\mathrm{r})$', fontsize=16, **hfont)\n",
        "x1 = [0,1,2,3]\n",
        "squad = ['T1','T2','T3','T4']\n",
        "plt.xticks(x1, squad)\n",
        "#plt.xticks(squad, minor=False, rotation=45)\n",
        "\n",
        "\n",
        "plt.xlabel('Training Instances', fontsize=16, **hfont)\n",
        "plt.legend(['rMAE', 'MAE', 'MAPE', 'sMAPE', 'RMSE', '$R^2$' ], loc='upper right', prop={\"size\":10})\n",
        "plt.grid()\n",
        "plt.tight_layout()\n",
        "plt.savefig('variablesNP.pdf')\n",
        "plt.show()\n"
      ],
      "metadata": {
        "colab": {
          "base_uri": "https://localhost:8080/",
          "height": 567
        },
        "id": "OtkLGgxwConJ",
        "outputId": "973b817b-6390-422c-b3b8-529dcd51224c"
      },
      "execution_count": null,
      "outputs": [
        {
          "output_type": "stream",
          "name": "stderr",
          "text": [
            "WARNING:matplotlib.font_manager:findfont: Font family 'Arial' not found.\n",
            "WARNING:matplotlib.font_manager:findfont: Font family 'Arial' not found.\n",
            "WARNING:matplotlib.font_manager:findfont: Font family 'Arial' not found.\n",
            "WARNING:matplotlib.font_manager:findfont: Font family 'Arial' not found.\n",
            "WARNING:matplotlib.font_manager:findfont: Font family 'Arial' not found.\n",
            "WARNING:matplotlib.font_manager:findfont: Font family 'Arial' not found.\n",
            "WARNING:matplotlib.font_manager:findfont: Font family 'Arial' not found.\n",
            "WARNING:matplotlib.font_manager:findfont: Font family 'Arial' not found.\n",
            "WARNING:matplotlib.font_manager:findfont: Font family 'Arial' not found.\n",
            "WARNING:matplotlib.font_manager:findfont: Font family 'Arial' not found.\n",
            "WARNING:matplotlib.font_manager:findfont: Font family 'Arial' not found.\n",
            "WARNING:matplotlib.font_manager:findfont: Font family 'Arial' not found.\n",
            "WARNING:matplotlib.font_manager:findfont: Font family 'Arial' not found.\n",
            "WARNING:matplotlib.font_manager:findfont: Font family 'Arial' not found.\n",
            "WARNING:matplotlib.font_manager:findfont: Font family 'Arial' not found.\n"
          ]
        },
        {
          "output_type": "display_data",
          "data": {
            "text/plain": [
              "<Figure size 700x300 with 1 Axes>"
            ],
            "image/png": "[encoded data removed]"
          },
          "metadata": {}
        }
      ]
    }
  ],
  "metadata": {
    "colab": {
      "provenance": [],
      "authorship_tag": "ABX9TyPLyxuY/m6rU2xpoSK2WRNZ",
      "include_colab_link": true
    },
    "kernelspec": {
      "display_name": "Python 3",
      "name": "python3"
    },
    "language_info": {
      "name": "python"
    }
  },
  "nbformat": 4,
  "nbformat_minor": 0
}